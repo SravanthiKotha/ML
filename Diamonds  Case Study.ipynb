{
 "cells": [
  {
   "cell_type": "markdown",
   "id": "74798bca",
   "metadata": {},
   "source": [
    "\n",
    "## ######################\n",
    "\n",
    "Task - Predict the diamond price.💎\n",
    "Write the KNN code from scratch and make it work on the given dataset ?\n",
    "\n",
    "Step - 1: Load the data\n",
    "Step - 2: Perform the EDA on the given dataset\n",
    "Step - 3: Handle Categorical Columns i.e. convert them to numerical representation (TODO - Wisely choose between LabelEncoding and OneHotEncoding)\n",
    "Step - 4: Normalize the data\n",
    "Step - 5: Split the data - Test and Train (recommended 75:25 split)\n",
    "Step - 6: Build KNN Algorithm from scratch and do the predictions for test data. You should not use the sklearn KNN algorithm here. Write the complete code implementation on KNN.\n",
    "Step - 7: Evaluate your model\n",
    "Step - 8: Train a model using sklearn KNN Algorithm and compare the results with your scratch implementation\n",
    "\n",
    "Dos - \n",
    "1.\tYou can use sklearn for standardizing and splitting the dataset to train and test\n",
    "2.\tScratch implementation of sklearn’s KNN fit function\n",
    "3.\tYou can use library functions for LabelEncoder or OneHotEncoder  \n",
    "4.\tUse Jupyter Notebook to implement your work \n",
    "5.\tEat, Sleep, Code repeat\n",
    "\n",
    "Don’t - \n",
    "1.\tPlagiarism \n",
    "2.\tProcrastination\n",
    "## #####\n",
    "\n",
    "1. Title : Diamonds Dataset\n",
    "\n",
    "2. the 7th column \"price\" is the values to be predicted.\n",
    "\n",
    "3. Data Type : Mixed ( Numerical + Categorical)\n",
    "\t\n",
    "4. Dataset has nearly 54000 instances.\n",
    "\n",
    "5. It has 10 features.\n",
    "\n",
    "6. Features \n",
    "\n",
    "\tprice : price in US dollars (\\$326--\\$18,823)\n",
    "\n",
    "\tcarat : weight of the diamond (0.2--5.01)\n",
    "\n",
    "\tcut   : quality of the cut (Fair, Good, Very Good, Premium, Ideal)\n",
    "\n",
    "\tcolor : diamond colour, from J (worst) to D (best)\n",
    "\n",
    "\tclarity : a measurement of how clear the diamond is (I1 (worst), SI2, SI1, VS2, VS1, VVS2, VVS1, IF (best))\n",
    "\n",
    "\tx : length in mm (0--10.74)\n",
    "\n",
    "\ty : width in mm (0--58.9)\n",
    "\n",
    "\tz : depth in mm (0--31.8)\n",
    "\n",
    "\tdepth : total depth percentage = z / mean(x, y) = 2 * z / (x + y) (43--79)\n",
    "\n",
    "\ttable : width of top of diamond relative to widest point (43--95)\n",
    "\n",
    "7. Caution : Handle Categorical data before building a model. \n"
   ]
  },
  {
   "cell_type": "markdown",
   "id": "1eab1ed1",
   "metadata": {},
   "source": [
    "## Data Loading\n"
   ]
  },
  {
   "cell_type": "code",
   "execution_count": 1,
   "id": "b80275a6",
   "metadata": {
    "ExecuteTime": {
     "end_time": "2022-12-22T11:46:02.584406Z",
     "start_time": "2022-12-22T11:45:59.934568Z"
    }
   },
   "outputs": [],
   "source": [
    "import numpy as np\n",
    "import pandas as pd\n",
    "import matplotlib.pyplot as plt\n",
    "import seaborn as sns\n",
    "import plotly.express as px"
   ]
  },
  {
   "cell_type": "code",
   "execution_count": 2,
   "id": "3b517597",
   "metadata": {
    "ExecuteTime": {
     "end_time": "2022-12-22T11:46:02.658108Z",
     "start_time": "2022-12-22T11:46:02.584406Z"
    },
    "scrolled": true
   },
   "outputs": [],
   "source": [
    "data = pd.read_csv('data/diamonds.csv')\n"
   ]
  },
  {
   "cell_type": "markdown",
   "id": "a297e5f6",
   "metadata": {},
   "source": [
    "## Checking for Duplicates and null values and dropping them"
   ]
  },
  {
   "cell_type": "code",
   "execution_count": 3,
   "id": "f59410ca",
   "metadata": {
    "ExecuteTime": {
     "end_time": "2022-12-22T11:46:02.706340Z",
     "start_time": "2022-12-22T11:46:02.659159Z"
    }
   },
   "outputs": [
    {
     "data": {
      "text/plain": [
       "carat      0\n",
       "cut        0\n",
       "color      0\n",
       "clarity    0\n",
       "depth      0\n",
       "table      0\n",
       "price      0\n",
       "x          0\n",
       "y          0\n",
       "z          0\n",
       "dtype: int64"
      ]
     },
     "execution_count": 3,
     "metadata": {},
     "output_type": "execute_result"
    }
   ],
   "source": [
    "data.isnull().sum()"
   ]
  },
  {
   "cell_type": "markdown",
   "id": "7d18a222",
   "metadata": {},
   "source": [
    "Conclusion: No nulls in entire dataframe"
   ]
  },
  {
   "cell_type": "code",
   "execution_count": 4,
   "id": "b8fa7e09",
   "metadata": {
    "ExecuteTime": {
     "end_time": "2022-12-22T11:46:03.744817Z",
     "start_time": "2022-12-22T11:46:03.692333Z"
    }
   },
   "outputs": [
    {
     "data": {
      "text/plain": [
       "146"
      ]
     },
     "execution_count": 4,
     "metadata": {},
     "output_type": "execute_result"
    }
   ],
   "source": [
    "data.duplicated().sum()"
   ]
  },
  {
   "cell_type": "markdown",
   "id": "e46ae33a",
   "metadata": {},
   "source": [
    "## there are 146 duplicates in the dataframe \n",
    "action : remove them\n"
   ]
  },
  {
   "cell_type": "code",
   "execution_count": 5,
   "id": "fa0897a9",
   "metadata": {
    "ExecuteTime": {
     "end_time": "2022-12-22T11:46:05.222040Z",
     "start_time": "2022-12-22T11:46:05.179563Z"
    },
    "scrolled": true
   },
   "outputs": [],
   "source": [
    "data.drop_duplicates(inplace=True)"
   ]
  },
  {
   "cell_type": "code",
   "execution_count": 6,
   "id": "d16c97f2",
   "metadata": {
    "ExecuteTime": {
     "end_time": "2022-12-22T11:46:05.862808Z",
     "start_time": "2022-12-22T11:46:05.824199Z"
    }
   },
   "outputs": [
    {
     "data": {
      "text/plain": [
       "0"
      ]
     },
     "execution_count": 6,
     "metadata": {},
     "output_type": "execute_result"
    }
   ],
   "source": [
    "data.duplicated().sum()"
   ]
  },
  {
   "cell_type": "code",
   "execution_count": 7,
   "id": "eb0482fa",
   "metadata": {
    "ExecuteTime": {
     "end_time": "2022-12-22T11:46:06.698897Z",
     "start_time": "2022-12-22T11:46:06.668590Z"
    }
   },
   "outputs": [
    {
     "data": {
      "text/html": [
       "<div>\n",
       "<style scoped>\n",
       "    .dataframe tbody tr th:only-of-type {\n",
       "        vertical-align: middle;\n",
       "    }\n",
       "\n",
       "    .dataframe tbody tr th {\n",
       "        vertical-align: top;\n",
       "    }\n",
       "\n",
       "    .dataframe thead th {\n",
       "        text-align: right;\n",
       "    }\n",
       "</style>\n",
       "<table border=\"1\" class=\"dataframe\">\n",
       "  <thead>\n",
       "    <tr style=\"text-align: right;\">\n",
       "      <th></th>\n",
       "      <th>carat</th>\n",
       "      <th>cut</th>\n",
       "      <th>color</th>\n",
       "      <th>clarity</th>\n",
       "      <th>depth</th>\n",
       "      <th>table</th>\n",
       "      <th>price</th>\n",
       "      <th>x</th>\n",
       "      <th>y</th>\n",
       "      <th>z</th>\n",
       "    </tr>\n",
       "  </thead>\n",
       "  <tbody>\n",
       "    <tr>\n",
       "      <th>0</th>\n",
       "      <td>0.23</td>\n",
       "      <td>Ideal</td>\n",
       "      <td>E</td>\n",
       "      <td>SI2</td>\n",
       "      <td>61.5</td>\n",
       "      <td>55.0</td>\n",
       "      <td>326</td>\n",
       "      <td>3.95</td>\n",
       "      <td>3.98</td>\n",
       "      <td>2.43</td>\n",
       "    </tr>\n",
       "    <tr>\n",
       "      <th>1</th>\n",
       "      <td>0.21</td>\n",
       "      <td>Premium</td>\n",
       "      <td>E</td>\n",
       "      <td>SI1</td>\n",
       "      <td>59.8</td>\n",
       "      <td>61.0</td>\n",
       "      <td>326</td>\n",
       "      <td>3.89</td>\n",
       "      <td>3.84</td>\n",
       "      <td>2.31</td>\n",
       "    </tr>\n",
       "    <tr>\n",
       "      <th>2</th>\n",
       "      <td>0.23</td>\n",
       "      <td>Good</td>\n",
       "      <td>E</td>\n",
       "      <td>VS1</td>\n",
       "      <td>56.9</td>\n",
       "      <td>65.0</td>\n",
       "      <td>327</td>\n",
       "      <td>4.05</td>\n",
       "      <td>4.07</td>\n",
       "      <td>2.31</td>\n",
       "    </tr>\n",
       "    <tr>\n",
       "      <th>3</th>\n",
       "      <td>0.29</td>\n",
       "      <td>Premium</td>\n",
       "      <td>I</td>\n",
       "      <td>VS2</td>\n",
       "      <td>62.4</td>\n",
       "      <td>58.0</td>\n",
       "      <td>334</td>\n",
       "      <td>4.20</td>\n",
       "      <td>4.23</td>\n",
       "      <td>2.63</td>\n",
       "    </tr>\n",
       "    <tr>\n",
       "      <th>4</th>\n",
       "      <td>0.31</td>\n",
       "      <td>Good</td>\n",
       "      <td>J</td>\n",
       "      <td>SI2</td>\n",
       "      <td>63.3</td>\n",
       "      <td>58.0</td>\n",
       "      <td>335</td>\n",
       "      <td>4.34</td>\n",
       "      <td>4.35</td>\n",
       "      <td>2.75</td>\n",
       "    </tr>\n",
       "  </tbody>\n",
       "</table>\n",
       "</div>"
      ],
      "text/plain": [
       "   carat      cut color clarity  depth  table  price     x     y     z\n",
       "0   0.23    Ideal     E     SI2   61.5   55.0    326  3.95  3.98  2.43\n",
       "1   0.21  Premium     E     SI1   59.8   61.0    326  3.89  3.84  2.31\n",
       "2   0.23     Good     E     VS1   56.9   65.0    327  4.05  4.07  2.31\n",
       "3   0.29  Premium     I     VS2   62.4   58.0    334  4.20  4.23  2.63\n",
       "4   0.31     Good     J     SI2   63.3   58.0    335  4.34  4.35  2.75"
      ]
     },
     "execution_count": 7,
     "metadata": {},
     "output_type": "execute_result"
    }
   ],
   "source": [
    "data.head()"
   ]
  },
  {
   "cell_type": "code",
   "execution_count": 8,
   "id": "10dd4416",
   "metadata": {
    "ExecuteTime": {
     "end_time": "2022-12-22T11:46:07.526140Z",
     "start_time": "2022-12-22T11:46:07.475781Z"
    }
   },
   "outputs": [
    {
     "name": "stdout",
     "output_type": "stream",
     "text": [
      "<class 'pandas.core.frame.DataFrame'>\n",
      "Int64Index: 53794 entries, 0 to 53939\n",
      "Data columns (total 10 columns):\n",
      " #   Column   Non-Null Count  Dtype  \n",
      "---  ------   --------------  -----  \n",
      " 0   carat    53794 non-null  float64\n",
      " 1   cut      53794 non-null  object \n",
      " 2   color    53794 non-null  object \n",
      " 3   clarity  53794 non-null  object \n",
      " 4   depth    53794 non-null  float64\n",
      " 5   table    53794 non-null  float64\n",
      " 6   price    53794 non-null  int64  \n",
      " 7   x        53794 non-null  float64\n",
      " 8   y        53794 non-null  float64\n",
      " 9   z        53794 non-null  float64\n",
      "dtypes: float64(6), int64(1), object(3)\n",
      "memory usage: 4.5+ MB\n"
     ]
    }
   ],
   "source": [
    "data.info()"
   ]
  },
  {
   "cell_type": "code",
   "execution_count": 9,
   "id": "74eb6e3e",
   "metadata": {
    "ExecuteTime": {
     "end_time": "2022-12-22T11:46:07.986576Z",
     "start_time": "2022-12-22T11:46:07.978367Z"
    }
   },
   "outputs": [
    {
     "data": {
      "text/plain": [
       "(53794, 10)"
      ]
     },
     "execution_count": 9,
     "metadata": {},
     "output_type": "execute_result"
    }
   ],
   "source": [
    "data.shape"
   ]
  },
  {
   "cell_type": "markdown",
   "id": "b2419b12",
   "metadata": {},
   "source": [
    "# Splitting inputs and target features\n",
    "\n",
    "### Problem Statement - Given Diamond data set, need tom predict the 'price' of a diamond\n",
    "\n",
    "#### taget : Price--> int64 --> a real value\n",
    "#### as target is available in training data , this will be the supervised learning and the task is Regression"
   ]
  },
  {
   "cell_type": "code",
   "execution_count": 10,
   "id": "784f8e6f",
   "metadata": {
    "ExecuteTime": {
     "end_time": "2022-12-22T11:46:09.564452Z",
     "start_time": "2022-12-22T11:46:09.545683Z"
    }
   },
   "outputs": [
    {
     "data": {
      "text/plain": [
       "Index(['carat', 'cut', 'color', 'clarity', 'depth', 'table', 'price', 'x', 'y',\n",
       "       'z'],\n",
       "      dtype='object')"
      ]
     },
     "execution_count": 10,
     "metadata": {},
     "output_type": "execute_result"
    }
   ],
   "source": [
    "data.columns"
   ]
  },
  {
   "cell_type": "code",
   "execution_count": 11,
   "id": "e2e2a064",
   "metadata": {
    "ExecuteTime": {
     "end_time": "2022-12-22T11:46:10.084488Z",
     "start_time": "2022-12-22T11:46:10.074924Z"
    }
   },
   "outputs": [],
   "source": [
    "data.drop('depth',axis=1,inplace=True)"
   ]
  },
  {
   "cell_type": "markdown",
   "id": "a65fe8fa",
   "metadata": {},
   "source": [
    "## Target and input features splitting"
   ]
  },
  {
   "cell_type": "code",
   "execution_count": 12,
   "id": "bf1e5050",
   "metadata": {
    "ExecuteTime": {
     "end_time": "2022-12-22T11:46:11.226377Z",
     "start_time": "2022-12-22T11:46:11.216094Z"
    },
    "scrolled": true
   },
   "outputs": [
    {
     "name": "stdout",
     "output_type": "stream",
     "text": [
      "Index(['carat', 'cut', 'color', 'clarity', 'table', 'x', 'y', 'z'], dtype='object') 0         326\n",
      "1         326\n",
      "2         327\n",
      "3         334\n",
      "4         335\n",
      "         ... \n",
      "53935    2757\n",
      "53936    2757\n",
      "53937    2757\n",
      "53938    2757\n",
      "53939    2757\n",
      "Name: price, Length: 53794, dtype: int64\n"
     ]
    }
   ],
   "source": [
    "y = data['price']\n",
    "\n",
    "x = data.drop('price',axis=1)\n",
    "\n",
    "print(x.columns, y)"
   ]
  },
  {
   "cell_type": "code",
   "execution_count": 13,
   "id": "c15ffbcb",
   "metadata": {
    "ExecuteTime": {
     "end_time": "2022-12-22T11:46:11.894259Z",
     "start_time": "2022-12-22T11:46:11.890324Z"
    }
   },
   "outputs": [],
   "source": [
    "import sklearn"
   ]
  },
  {
   "cell_type": "code",
   "execution_count": 14,
   "id": "a9c9cc1f",
   "metadata": {
    "ExecuteTime": {
     "end_time": "2022-12-22T11:46:12.524588Z",
     "start_time": "2022-12-22T11:46:12.502547Z"
    }
   },
   "outputs": [],
   "source": [
    "# split into train and test\n",
    "\n",
    "from sklearn.model_selection import train_test_split\n",
    "\n",
    "X_train, X_test, y_train, y_test = train_test_split(x, y, test_size=0.25, random_state=100)"
   ]
  },
  {
   "cell_type": "code",
   "execution_count": 15,
   "id": "b48a0b90",
   "metadata": {
    "ExecuteTime": {
     "end_time": "2022-12-22T11:46:13.144881Z",
     "start_time": "2022-12-22T11:46:13.123801Z"
    },
    "scrolled": true
   },
   "outputs": [
    {
     "name": "stdout",
     "output_type": "stream",
     "text": [
      "(40345, 8) (40345,)\n",
      "(13449, 8) (13449,)\n"
     ]
    },
    {
     "data": {
      "text/html": [
       "<div>\n",
       "<style scoped>\n",
       "    .dataframe tbody tr th:only-of-type {\n",
       "        vertical-align: middle;\n",
       "    }\n",
       "\n",
       "    .dataframe tbody tr th {\n",
       "        vertical-align: top;\n",
       "    }\n",
       "\n",
       "    .dataframe thead th {\n",
       "        text-align: right;\n",
       "    }\n",
       "</style>\n",
       "<table border=\"1\" class=\"dataframe\">\n",
       "  <thead>\n",
       "    <tr style=\"text-align: right;\">\n",
       "      <th></th>\n",
       "      <th>carat</th>\n",
       "      <th>cut</th>\n",
       "      <th>color</th>\n",
       "      <th>clarity</th>\n",
       "      <th>table</th>\n",
       "      <th>x</th>\n",
       "      <th>y</th>\n",
       "      <th>z</th>\n",
       "    </tr>\n",
       "  </thead>\n",
       "  <tbody>\n",
       "    <tr>\n",
       "      <th>28501</th>\n",
       "      <td>0.40</td>\n",
       "      <td>Ideal</td>\n",
       "      <td>E</td>\n",
       "      <td>SI1</td>\n",
       "      <td>54.0</td>\n",
       "      <td>4.74</td>\n",
       "      <td>4.78</td>\n",
       "      <td>2.96</td>\n",
       "    </tr>\n",
       "    <tr>\n",
       "      <th>41345</th>\n",
       "      <td>0.54</td>\n",
       "      <td>Ideal</td>\n",
       "      <td>I</td>\n",
       "      <td>VS1</td>\n",
       "      <td>54.0</td>\n",
       "      <td>5.26</td>\n",
       "      <td>5.30</td>\n",
       "      <td>3.25</td>\n",
       "    </tr>\n",
       "    <tr>\n",
       "      <th>37241</th>\n",
       "      <td>0.50</td>\n",
       "      <td>Good</td>\n",
       "      <td>F</td>\n",
       "      <td>SI1</td>\n",
       "      <td>57.0</td>\n",
       "      <td>5.03</td>\n",
       "      <td>4.94</td>\n",
       "      <td>3.21</td>\n",
       "    </tr>\n",
       "    <tr>\n",
       "      <th>3002</th>\n",
       "      <td>0.81</td>\n",
       "      <td>Ideal</td>\n",
       "      <td>F</td>\n",
       "      <td>SI2</td>\n",
       "      <td>56.0</td>\n",
       "      <td>5.95</td>\n",
       "      <td>6.00</td>\n",
       "      <td>3.71</td>\n",
       "    </tr>\n",
       "    <tr>\n",
       "      <th>36278</th>\n",
       "      <td>0.34</td>\n",
       "      <td>Very Good</td>\n",
       "      <td>E</td>\n",
       "      <td>SI2</td>\n",
       "      <td>56.0</td>\n",
       "      <td>4.45</td>\n",
       "      <td>4.48</td>\n",
       "      <td>2.81</td>\n",
       "    </tr>\n",
       "  </tbody>\n",
       "</table>\n",
       "</div>"
      ],
      "text/plain": [
       "       carat        cut color clarity  table     x     y     z\n",
       "28501   0.40      Ideal     E     SI1   54.0  4.74  4.78  2.96\n",
       "41345   0.54      Ideal     I     VS1   54.0  5.26  5.30  3.25\n",
       "37241   0.50       Good     F     SI1   57.0  5.03  4.94  3.21\n",
       "3002    0.81      Ideal     F     SI2   56.0  5.95  6.00  3.71\n",
       "36278   0.34  Very Good     E     SI2   56.0  4.45  4.48  2.81"
      ]
     },
     "execution_count": 15,
     "metadata": {},
     "output_type": "execute_result"
    }
   ],
   "source": [
    "print(X_train.shape, y_train.shape)\n",
    "\n",
    "print(X_test.shape, y_test.shape)\n",
    "\n",
    "X_test.head()"
   ]
  },
  {
   "cell_type": "markdown",
   "id": "f1d5129d",
   "metadata": {},
   "source": [
    "###  Separating Categorical and Numerical Columns: "
   ]
  },
  {
   "cell_type": "code",
   "execution_count": 16,
   "id": "670acdc4",
   "metadata": {
    "ExecuteTime": {
     "end_time": "2022-12-22T11:46:14.325435Z",
     "start_time": "2022-12-22T11:46:14.317279Z"
    }
   },
   "outputs": [],
   "source": [
    "X_train_cat = X_train.select_dtypes(include=['object'])\n",
    "\n",
    "X_train_num = X_train.select_dtypes(include=['int64','float64'])"
   ]
  },
  {
   "cell_type": "code",
   "execution_count": 17,
   "id": "6c8312fa",
   "metadata": {
    "ExecuteTime": {
     "end_time": "2022-12-22T11:46:14.832498Z",
     "start_time": "2022-12-22T11:46:14.820736Z"
    }
   },
   "outputs": [
    {
     "data": {
      "text/plain": [
       "Index(['cut', 'color', 'clarity'], dtype='object')"
      ]
     },
     "execution_count": 17,
     "metadata": {},
     "output_type": "execute_result"
    }
   ],
   "source": [
    "X_train_cat.columns"
   ]
  },
  {
   "cell_type": "code",
   "execution_count": 18,
   "id": "efd6840a",
   "metadata": {
    "ExecuteTime": {
     "end_time": "2022-12-22T11:46:15.317868Z",
     "start_time": "2022-12-22T11:46:15.299896Z"
    }
   },
   "outputs": [
    {
     "data": {
      "text/plain": [
       "Index(['carat', 'table', 'x', 'y', 'z'], dtype='object')"
      ]
     },
     "execution_count": 18,
     "metadata": {},
     "output_type": "execute_result"
    }
   ],
   "source": [
    "X_train_num.columns"
   ]
  },
  {
   "cell_type": "markdown",
   "id": "e5c18f62",
   "metadata": {},
   "source": [
    "## Scaling the Numerical Features"
   ]
  },
  {
   "cell_type": "code",
   "execution_count": 19,
   "id": "cb1aa40d",
   "metadata": {
    "ExecuteTime": {
     "end_time": "2022-12-22T11:46:16.614858Z",
     "start_time": "2022-12-22T11:46:16.598211Z"
    }
   },
   "outputs": [
    {
     "data": {
      "text/html": [
       "<div>\n",
       "<style scoped>\n",
       "    .dataframe tbody tr th:only-of-type {\n",
       "        vertical-align: middle;\n",
       "    }\n",
       "\n",
       "    .dataframe tbody tr th {\n",
       "        vertical-align: top;\n",
       "    }\n",
       "\n",
       "    .dataframe thead th {\n",
       "        text-align: right;\n",
       "    }\n",
       "</style>\n",
       "<table border=\"1\" class=\"dataframe\">\n",
       "  <thead>\n",
       "    <tr style=\"text-align: right;\">\n",
       "      <th></th>\n",
       "      <th>carat</th>\n",
       "      <th>table</th>\n",
       "      <th>x</th>\n",
       "      <th>y</th>\n",
       "      <th>z</th>\n",
       "    </tr>\n",
       "  </thead>\n",
       "  <tbody>\n",
       "    <tr>\n",
       "      <th>29342</th>\n",
       "      <td>0.31</td>\n",
       "      <td>57.0</td>\n",
       "      <td>4.43</td>\n",
       "      <td>4.40</td>\n",
       "      <td>2.63</td>\n",
       "    </tr>\n",
       "    <tr>\n",
       "      <th>3261</th>\n",
       "      <td>0.70</td>\n",
       "      <td>57.0</td>\n",
       "      <td>5.74</td>\n",
       "      <td>5.79</td>\n",
       "      <td>3.47</td>\n",
       "    </tr>\n",
       "    <tr>\n",
       "      <th>52074</th>\n",
       "      <td>0.70</td>\n",
       "      <td>56.0</td>\n",
       "      <td>5.69</td>\n",
       "      <td>5.63</td>\n",
       "      <td>3.59</td>\n",
       "    </tr>\n",
       "    <tr>\n",
       "      <th>5445</th>\n",
       "      <td>0.90</td>\n",
       "      <td>59.0</td>\n",
       "      <td>6.14</td>\n",
       "      <td>6.10</td>\n",
       "      <td>3.88</td>\n",
       "    </tr>\n",
       "    <tr>\n",
       "      <th>10677</th>\n",
       "      <td>1.21</td>\n",
       "      <td>59.0</td>\n",
       "      <td>6.92</td>\n",
       "      <td>6.86</td>\n",
       "      <td>4.13</td>\n",
       "    </tr>\n",
       "  </tbody>\n",
       "</table>\n",
       "</div>"
      ],
      "text/plain": [
       "       carat  table     x     y     z\n",
       "29342   0.31   57.0  4.43  4.40  2.63\n",
       "3261    0.70   57.0  5.74  5.79  3.47\n",
       "52074   0.70   56.0  5.69  5.63  3.59\n",
       "5445    0.90   59.0  6.14  6.10  3.88\n",
       "10677   1.21   59.0  6.92  6.86  4.13"
      ]
     },
     "execution_count": 19,
     "metadata": {},
     "output_type": "execute_result"
    }
   ],
   "source": [
    "X_train_num.head()"
   ]
  },
  {
   "cell_type": "code",
   "execution_count": 20,
   "id": "09ccecda",
   "metadata": {
    "ExecuteTime": {
     "end_time": "2022-12-22T11:46:17.846122Z",
     "start_time": "2022-12-22T11:46:17.825366Z"
    }
   },
   "outputs": [
    {
     "data": {
      "text/html": [
       "<div>\n",
       "<style scoped>\n",
       "    .dataframe tbody tr th:only-of-type {\n",
       "        vertical-align: middle;\n",
       "    }\n",
       "\n",
       "    .dataframe tbody tr th {\n",
       "        vertical-align: top;\n",
       "    }\n",
       "\n",
       "    .dataframe thead th {\n",
       "        text-align: right;\n",
       "    }\n",
       "</style>\n",
       "<table border=\"1\" class=\"dataframe\">\n",
       "  <thead>\n",
       "    <tr style=\"text-align: right;\">\n",
       "      <th></th>\n",
       "      <th>carat</th>\n",
       "      <th>table</th>\n",
       "      <th>x</th>\n",
       "      <th>y</th>\n",
       "      <th>z</th>\n",
       "    </tr>\n",
       "  </thead>\n",
       "  <tbody>\n",
       "    <tr>\n",
       "      <th>29342</th>\n",
       "      <td>-1.030279</td>\n",
       "      <td>-0.203136</td>\n",
       "      <td>-1.160218</td>\n",
       "      <td>-1.159730</td>\n",
       "      <td>-1.282702</td>\n",
       "    </tr>\n",
       "    <tr>\n",
       "      <th>3261</th>\n",
       "      <td>-0.207788</td>\n",
       "      <td>-0.203136</td>\n",
       "      <td>0.006803</td>\n",
       "      <td>0.046610</td>\n",
       "      <td>-0.098474</td>\n",
       "    </tr>\n",
       "    <tr>\n",
       "      <th>52074</th>\n",
       "      <td>-0.207788</td>\n",
       "      <td>-0.650819</td>\n",
       "      <td>-0.037740</td>\n",
       "      <td>-0.092249</td>\n",
       "      <td>0.070702</td>\n",
       "    </tr>\n",
       "    <tr>\n",
       "      <th>5445</th>\n",
       "      <td>0.214002</td>\n",
       "      <td>0.692231</td>\n",
       "      <td>0.363145</td>\n",
       "      <td>0.315650</td>\n",
       "      <td>0.479542</td>\n",
       "    </tr>\n",
       "    <tr>\n",
       "      <th>10677</th>\n",
       "      <td>0.867776</td>\n",
       "      <td>0.692231</td>\n",
       "      <td>1.058013</td>\n",
       "      <td>0.975232</td>\n",
       "      <td>0.831991</td>\n",
       "    </tr>\n",
       "  </tbody>\n",
       "</table>\n",
       "</div>"
      ],
      "text/plain": [
       "          carat     table         x         y         z\n",
       "29342 -1.030279 -0.203136 -1.160218 -1.159730 -1.282702\n",
       "3261  -0.207788 -0.203136  0.006803  0.046610 -0.098474\n",
       "52074 -0.207788 -0.650819 -0.037740 -0.092249  0.070702\n",
       "5445   0.214002  0.692231  0.363145  0.315650  0.479542\n",
       "10677  0.867776  0.692231  1.058013  0.975232  0.831991"
      ]
     },
     "execution_count": 20,
     "metadata": {},
     "output_type": "execute_result"
    }
   ],
   "source": [
    "from sklearn.preprocessing import StandardScaler\n",
    "\n",
    "std_scaler = StandardScaler()\n",
    "\n",
    "X_train_num_rescaled = pd.DataFrame(std_scaler.fit_transform(X_train_num), \n",
    "                                    columns = X_train_num.columns, \n",
    "                                    index = X_train_num.index)\n",
    "\n",
    "X_train_num_rescaled.head()"
   ]
  },
  {
   "cell_type": "markdown",
   "id": "28757707",
   "metadata": {},
   "source": [
    "### Categorical Columns -- identification of nomial and ordinal features"
   ]
  },
  {
   "cell_type": "code",
   "execution_count": 21,
   "id": "884bad79",
   "metadata": {
    "ExecuteTime": {
     "end_time": "2022-12-22T11:46:18.668378Z",
     "start_time": "2022-12-22T11:46:18.654456Z"
    }
   },
   "outputs": [
    {
     "data": {
      "text/html": [
       "<div>\n",
       "<style scoped>\n",
       "    .dataframe tbody tr th:only-of-type {\n",
       "        vertical-align: middle;\n",
       "    }\n",
       "\n",
       "    .dataframe tbody tr th {\n",
       "        vertical-align: top;\n",
       "    }\n",
       "\n",
       "    .dataframe thead th {\n",
       "        text-align: right;\n",
       "    }\n",
       "</style>\n",
       "<table border=\"1\" class=\"dataframe\">\n",
       "  <thead>\n",
       "    <tr style=\"text-align: right;\">\n",
       "      <th></th>\n",
       "      <th>cut</th>\n",
       "      <th>color</th>\n",
       "      <th>clarity</th>\n",
       "    </tr>\n",
       "  </thead>\n",
       "  <tbody>\n",
       "    <tr>\n",
       "      <th>29342</th>\n",
       "      <td>Ideal</td>\n",
       "      <td>G</td>\n",
       "      <td>VS2</td>\n",
       "    </tr>\n",
       "    <tr>\n",
       "      <th>3261</th>\n",
       "      <td>Ideal</td>\n",
       "      <td>F</td>\n",
       "      <td>VS1</td>\n",
       "    </tr>\n",
       "    <tr>\n",
       "      <th>52074</th>\n",
       "      <td>Very Good</td>\n",
       "      <td>F</td>\n",
       "      <td>VS2</td>\n",
       "    </tr>\n",
       "    <tr>\n",
       "      <th>5445</th>\n",
       "      <td>Very Good</td>\n",
       "      <td>J</td>\n",
       "      <td>SI1</td>\n",
       "    </tr>\n",
       "    <tr>\n",
       "      <th>10677</th>\n",
       "      <td>Premium</td>\n",
       "      <td>J</td>\n",
       "      <td>VS2</td>\n",
       "    </tr>\n",
       "  </tbody>\n",
       "</table>\n",
       "</div>"
      ],
      "text/plain": [
       "             cut color clarity\n",
       "29342      Ideal     G     VS2\n",
       "3261       Ideal     F     VS1\n",
       "52074  Very Good     F     VS2\n",
       "5445   Very Good     J     SI1\n",
       "10677    Premium     J     VS2"
      ]
     },
     "execution_count": 21,
     "metadata": {},
     "output_type": "execute_result"
    }
   ],
   "source": [
    "X_train_cat.head()"
   ]
  },
  {
   "cell_type": "markdown",
   "id": "e4f6a2d1",
   "metadata": {},
   "source": [
    "## Oridnal features : cut,color,clarity --> LabelEncoding\n",
    "\n",
    "cut   : quality of the cut (Fair, Good, Very Good, Premium, Ideal)\n",
    "\n",
    "color : diamond colour, from J (worst) to D (best)\n",
    "\n",
    "clarity : a measurement of how clear the diamond is (I1 (worst), SI2, SI1, VS2, VS1, VVS2, VVS1, IF (best))"
   ]
  },
  {
   "cell_type": "code",
   "execution_count": 22,
   "id": "93ae3475",
   "metadata": {
    "ExecuteTime": {
     "end_time": "2022-12-22T11:46:19.675561Z",
     "start_time": "2022-12-22T11:46:19.664053Z"
    }
   },
   "outputs": [
    {
     "data": {
      "text/plain": [
       "Ideal        21488\n",
       "Premium      13748\n",
       "Very Good    12069\n",
       "Good          4891\n",
       "Fair          1598\n",
       "Name: cut, dtype: int64"
      ]
     },
     "execution_count": 22,
     "metadata": {},
     "output_type": "execute_result"
    }
   ],
   "source": [
    "data.cut.value_counts()"
   ]
  },
  {
   "cell_type": "code",
   "execution_count": 23,
   "id": "782fc2ac",
   "metadata": {
    "ExecuteTime": {
     "end_time": "2022-12-22T11:46:20.161505Z",
     "start_time": "2022-12-22T11:46:20.140202Z"
    }
   },
   "outputs": [
    {
     "data": {
      "text/plain": [
       "G    11262\n",
       "E     9776\n",
       "F     9520\n",
       "H     8272\n",
       "D     6755\n",
       "I     5407\n",
       "J     2802\n",
       "Name: color, dtype: int64"
      ]
     },
     "execution_count": 23,
     "metadata": {},
     "output_type": "execute_result"
    }
   ],
   "source": [
    "data.color.value_counts()"
   ]
  },
  {
   "cell_type": "code",
   "execution_count": 24,
   "id": "17283861",
   "metadata": {
    "ExecuteTime": {
     "end_time": "2022-12-22T11:46:20.618767Z",
     "start_time": "2022-12-22T11:46:20.603329Z"
    }
   },
   "outputs": [
    {
     "data": {
      "text/plain": [
       "SI1     13032\n",
       "VS2     12229\n",
       "SI2      9150\n",
       "VS1      8156\n",
       "VVS2     5056\n",
       "VVS1     3647\n",
       "IF       1784\n",
       "I1        740\n",
       "Name: clarity, dtype: int64"
      ]
     },
     "execution_count": 24,
     "metadata": {},
     "output_type": "execute_result"
    }
   ],
   "source": [
    "data.clarity.value_counts()"
   ]
  },
  {
   "cell_type": "code",
   "execution_count": 25,
   "id": "722068da",
   "metadata": {
    "ExecuteTime": {
     "end_time": "2022-12-22T11:46:21.162066Z",
     "start_time": "2022-12-22T11:46:21.107212Z"
    }
   },
   "outputs": [
    {
     "data": {
      "text/html": [
       "<div>\n",
       "<style scoped>\n",
       "    .dataframe tbody tr th:only-of-type {\n",
       "        vertical-align: middle;\n",
       "    }\n",
       "\n",
       "    .dataframe tbody tr th {\n",
       "        vertical-align: top;\n",
       "    }\n",
       "\n",
       "    .dataframe thead th {\n",
       "        text-align: right;\n",
       "    }\n",
       "</style>\n",
       "<table border=\"1\" class=\"dataframe\">\n",
       "  <thead>\n",
       "    <tr style=\"text-align: right;\">\n",
       "      <th></th>\n",
       "      <th>cut</th>\n",
       "      <th>color</th>\n",
       "      <th>clarity</th>\n",
       "    </tr>\n",
       "  </thead>\n",
       "  <tbody>\n",
       "    <tr>\n",
       "      <th>29342</th>\n",
       "      <td>5</td>\n",
       "      <td>4</td>\n",
       "      <td>4</td>\n",
       "    </tr>\n",
       "    <tr>\n",
       "      <th>3261</th>\n",
       "      <td>5</td>\n",
       "      <td>5</td>\n",
       "      <td>5</td>\n",
       "    </tr>\n",
       "    <tr>\n",
       "      <th>52074</th>\n",
       "      <td>3</td>\n",
       "      <td>5</td>\n",
       "      <td>4</td>\n",
       "    </tr>\n",
       "    <tr>\n",
       "      <th>5445</th>\n",
       "      <td>3</td>\n",
       "      <td>1</td>\n",
       "      <td>3</td>\n",
       "    </tr>\n",
       "    <tr>\n",
       "      <th>10677</th>\n",
       "      <td>4</td>\n",
       "      <td>1</td>\n",
       "      <td>4</td>\n",
       "    </tr>\n",
       "  </tbody>\n",
       "</table>\n",
       "</div>"
      ],
      "text/plain": [
       "       cut  color  clarity\n",
       "29342    5      4        4\n",
       "3261     5      5        5\n",
       "52074    3      5        4\n",
       "5445     3      1        3\n",
       "10677    4      1        4"
      ]
     },
     "execution_count": 25,
     "metadata": {},
     "output_type": "execute_result"
    }
   ],
   "source": [
    "\n",
    "cut_encoder = {\"Fair\":1,\"Good\":2,\"Very Good\":3,\"Premium\":4,\"Ideal\":5}\n",
    "color_encoder = {\"J\":1,\"I\":2,\"H\":3,\"G\":4,\"F\":5,\"E\":6,\"D\":7}\n",
    "clarity_encoder = {\"I1\":1,\"SI2\":2, \"SI1\":3, \"VS2\":4, \"VS1\":5, \"VVS2\":6, \"VVS1\":7, \"IF\":8}\n",
    "\n",
    "X_train_cat['cut'] = X_train_cat['cut'].apply(lambda x : cut_encoder[x])\n",
    "\n",
    "X_train_cat['color'] = X_train_cat['color'].apply(lambda x : color_encoder[x])\n",
    "\n",
    "X_train_cat['clarity'] = X_train_cat['clarity'].apply(lambda x : clarity_encoder[x])\n",
    "\n",
    "X_train_cat.head()"
   ]
  },
  {
   "cell_type": "markdown",
   "id": "0cc656a5",
   "metadata": {},
   "source": [
    "## concating all numerical and categorial transformed features"
   ]
  },
  {
   "cell_type": "code",
   "execution_count": 26,
   "id": "3188599a",
   "metadata": {
    "ExecuteTime": {
     "end_time": "2022-12-22T11:46:22.275883Z",
     "start_time": "2022-12-22T11:46:22.257757Z"
    }
   },
   "outputs": [
    {
     "data": {
      "text/html": [
       "<div>\n",
       "<style scoped>\n",
       "    .dataframe tbody tr th:only-of-type {\n",
       "        vertical-align: middle;\n",
       "    }\n",
       "\n",
       "    .dataframe tbody tr th {\n",
       "        vertical-align: top;\n",
       "    }\n",
       "\n",
       "    .dataframe thead th {\n",
       "        text-align: right;\n",
       "    }\n",
       "</style>\n",
       "<table border=\"1\" class=\"dataframe\">\n",
       "  <thead>\n",
       "    <tr style=\"text-align: right;\">\n",
       "      <th></th>\n",
       "      <th>carat</th>\n",
       "      <th>table</th>\n",
       "      <th>x</th>\n",
       "      <th>y</th>\n",
       "      <th>z</th>\n",
       "      <th>cut</th>\n",
       "      <th>color</th>\n",
       "      <th>clarity</th>\n",
       "    </tr>\n",
       "  </thead>\n",
       "  <tbody>\n",
       "    <tr>\n",
       "      <th>29342</th>\n",
       "      <td>-1.030279</td>\n",
       "      <td>-0.203136</td>\n",
       "      <td>-1.160218</td>\n",
       "      <td>-1.159730</td>\n",
       "      <td>-1.282702</td>\n",
       "      <td>5</td>\n",
       "      <td>4</td>\n",
       "      <td>4</td>\n",
       "    </tr>\n",
       "    <tr>\n",
       "      <th>3261</th>\n",
       "      <td>-0.207788</td>\n",
       "      <td>-0.203136</td>\n",
       "      <td>0.006803</td>\n",
       "      <td>0.046610</td>\n",
       "      <td>-0.098474</td>\n",
       "      <td>5</td>\n",
       "      <td>5</td>\n",
       "      <td>5</td>\n",
       "    </tr>\n",
       "    <tr>\n",
       "      <th>52074</th>\n",
       "      <td>-0.207788</td>\n",
       "      <td>-0.650819</td>\n",
       "      <td>-0.037740</td>\n",
       "      <td>-0.092249</td>\n",
       "      <td>0.070702</td>\n",
       "      <td>3</td>\n",
       "      <td>5</td>\n",
       "      <td>4</td>\n",
       "    </tr>\n",
       "    <tr>\n",
       "      <th>5445</th>\n",
       "      <td>0.214002</td>\n",
       "      <td>0.692231</td>\n",
       "      <td>0.363145</td>\n",
       "      <td>0.315650</td>\n",
       "      <td>0.479542</td>\n",
       "      <td>3</td>\n",
       "      <td>1</td>\n",
       "      <td>3</td>\n",
       "    </tr>\n",
       "    <tr>\n",
       "      <th>10677</th>\n",
       "      <td>0.867776</td>\n",
       "      <td>0.692231</td>\n",
       "      <td>1.058013</td>\n",
       "      <td>0.975232</td>\n",
       "      <td>0.831991</td>\n",
       "      <td>4</td>\n",
       "      <td>1</td>\n",
       "      <td>4</td>\n",
       "    </tr>\n",
       "  </tbody>\n",
       "</table>\n",
       "</div>"
      ],
      "text/plain": [
       "          carat     table         x         y         z  cut  color  clarity\n",
       "29342 -1.030279 -0.203136 -1.160218 -1.159730 -1.282702    5      4        4\n",
       "3261  -0.207788 -0.203136  0.006803  0.046610 -0.098474    5      5        5\n",
       "52074 -0.207788 -0.650819 -0.037740 -0.092249  0.070702    3      5        4\n",
       "5445   0.214002  0.692231  0.363145  0.315650  0.479542    3      1        3\n",
       "10677  0.867776  0.692231  1.058013  0.975232  0.831991    4      1        4"
      ]
     },
     "execution_count": 26,
     "metadata": {},
     "output_type": "execute_result"
    }
   ],
   "source": [
    "X_train_transformed = pd.concat([X_train_num_rescaled,X_train_cat],axis=1)\n",
    "X_train_transformed.head()"
   ]
  },
  {
   "cell_type": "markdown",
   "id": "0b8582f3",
   "metadata": {},
   "source": [
    "## Preparing Test Data"
   ]
  },
  {
   "cell_type": "code",
   "execution_count": 27,
   "id": "ff03aafa",
   "metadata": {
    "ExecuteTime": {
     "end_time": "2022-12-22T11:46:23.226917Z",
     "start_time": "2022-12-22T11:46:23.204377Z"
    }
   },
   "outputs": [
    {
     "data": {
      "text/html": [
       "<div>\n",
       "<style scoped>\n",
       "    .dataframe tbody tr th:only-of-type {\n",
       "        vertical-align: middle;\n",
       "    }\n",
       "\n",
       "    .dataframe tbody tr th {\n",
       "        vertical-align: top;\n",
       "    }\n",
       "\n",
       "    .dataframe thead th {\n",
       "        text-align: right;\n",
       "    }\n",
       "</style>\n",
       "<table border=\"1\" class=\"dataframe\">\n",
       "  <thead>\n",
       "    <tr style=\"text-align: right;\">\n",
       "      <th></th>\n",
       "      <th>carat</th>\n",
       "      <th>cut</th>\n",
       "      <th>color</th>\n",
       "      <th>clarity</th>\n",
       "      <th>table</th>\n",
       "      <th>x</th>\n",
       "      <th>y</th>\n",
       "      <th>z</th>\n",
       "    </tr>\n",
       "  </thead>\n",
       "  <tbody>\n",
       "    <tr>\n",
       "      <th>28501</th>\n",
       "      <td>0.40</td>\n",
       "      <td>Ideal</td>\n",
       "      <td>E</td>\n",
       "      <td>SI1</td>\n",
       "      <td>54.0</td>\n",
       "      <td>4.74</td>\n",
       "      <td>4.78</td>\n",
       "      <td>2.96</td>\n",
       "    </tr>\n",
       "    <tr>\n",
       "      <th>41345</th>\n",
       "      <td>0.54</td>\n",
       "      <td>Ideal</td>\n",
       "      <td>I</td>\n",
       "      <td>VS1</td>\n",
       "      <td>54.0</td>\n",
       "      <td>5.26</td>\n",
       "      <td>5.30</td>\n",
       "      <td>3.25</td>\n",
       "    </tr>\n",
       "    <tr>\n",
       "      <th>37241</th>\n",
       "      <td>0.50</td>\n",
       "      <td>Good</td>\n",
       "      <td>F</td>\n",
       "      <td>SI1</td>\n",
       "      <td>57.0</td>\n",
       "      <td>5.03</td>\n",
       "      <td>4.94</td>\n",
       "      <td>3.21</td>\n",
       "    </tr>\n",
       "    <tr>\n",
       "      <th>3002</th>\n",
       "      <td>0.81</td>\n",
       "      <td>Ideal</td>\n",
       "      <td>F</td>\n",
       "      <td>SI2</td>\n",
       "      <td>56.0</td>\n",
       "      <td>5.95</td>\n",
       "      <td>6.00</td>\n",
       "      <td>3.71</td>\n",
       "    </tr>\n",
       "    <tr>\n",
       "      <th>36278</th>\n",
       "      <td>0.34</td>\n",
       "      <td>Very Good</td>\n",
       "      <td>E</td>\n",
       "      <td>SI2</td>\n",
       "      <td>56.0</td>\n",
       "      <td>4.45</td>\n",
       "      <td>4.48</td>\n",
       "      <td>2.81</td>\n",
       "    </tr>\n",
       "  </tbody>\n",
       "</table>\n",
       "</div>"
      ],
      "text/plain": [
       "       carat        cut color clarity  table     x     y     z\n",
       "28501   0.40      Ideal     E     SI1   54.0  4.74  4.78  2.96\n",
       "41345   0.54      Ideal     I     VS1   54.0  5.26  5.30  3.25\n",
       "37241   0.50       Good     F     SI1   57.0  5.03  4.94  3.21\n",
       "3002    0.81      Ideal     F     SI2   56.0  5.95  6.00  3.71\n",
       "36278   0.34  Very Good     E     SI2   56.0  4.45  4.48  2.81"
      ]
     },
     "execution_count": 27,
     "metadata": {},
     "output_type": "execute_result"
    }
   ],
   "source": [
    "X_test.head()"
   ]
  },
  {
   "cell_type": "code",
   "execution_count": 28,
   "id": "eabf9e2a",
   "metadata": {
    "ExecuteTime": {
     "end_time": "2022-12-22T11:47:10.552969Z",
     "start_time": "2022-12-22T11:47:10.538789Z"
    }
   },
   "outputs": [],
   "source": [
    "X_test_cat = X_test.select_dtypes(include=['object'])\n",
    "\n",
    "X_test_num = X_test.select_dtypes(include=['int64','float64'])"
   ]
  },
  {
   "cell_type": "code",
   "execution_count": 29,
   "id": "3ea27d37",
   "metadata": {
    "ExecuteTime": {
     "end_time": "2022-12-22T11:47:11.378665Z",
     "start_time": "2022-12-22T11:47:11.365906Z"
    }
   },
   "outputs": [
    {
     "data": {
      "text/html": [
       "<div>\n",
       "<style scoped>\n",
       "    .dataframe tbody tr th:only-of-type {\n",
       "        vertical-align: middle;\n",
       "    }\n",
       "\n",
       "    .dataframe tbody tr th {\n",
       "        vertical-align: top;\n",
       "    }\n",
       "\n",
       "    .dataframe thead th {\n",
       "        text-align: right;\n",
       "    }\n",
       "</style>\n",
       "<table border=\"1\" class=\"dataframe\">\n",
       "  <thead>\n",
       "    <tr style=\"text-align: right;\">\n",
       "      <th></th>\n",
       "      <th>cut</th>\n",
       "      <th>color</th>\n",
       "      <th>clarity</th>\n",
       "    </tr>\n",
       "  </thead>\n",
       "  <tbody>\n",
       "    <tr>\n",
       "      <th>28501</th>\n",
       "      <td>Ideal</td>\n",
       "      <td>E</td>\n",
       "      <td>SI1</td>\n",
       "    </tr>\n",
       "    <tr>\n",
       "      <th>41345</th>\n",
       "      <td>Ideal</td>\n",
       "      <td>I</td>\n",
       "      <td>VS1</td>\n",
       "    </tr>\n",
       "    <tr>\n",
       "      <th>37241</th>\n",
       "      <td>Good</td>\n",
       "      <td>F</td>\n",
       "      <td>SI1</td>\n",
       "    </tr>\n",
       "    <tr>\n",
       "      <th>3002</th>\n",
       "      <td>Ideal</td>\n",
       "      <td>F</td>\n",
       "      <td>SI2</td>\n",
       "    </tr>\n",
       "    <tr>\n",
       "      <th>36278</th>\n",
       "      <td>Very Good</td>\n",
       "      <td>E</td>\n",
       "      <td>SI2</td>\n",
       "    </tr>\n",
       "  </tbody>\n",
       "</table>\n",
       "</div>"
      ],
      "text/plain": [
       "             cut color clarity\n",
       "28501      Ideal     E     SI1\n",
       "41345      Ideal     I     VS1\n",
       "37241       Good     F     SI1\n",
       "3002       Ideal     F     SI2\n",
       "36278  Very Good     E     SI2"
      ]
     },
     "execution_count": 29,
     "metadata": {},
     "output_type": "execute_result"
    }
   ],
   "source": [
    "X_test_cat.head()"
   ]
  },
  {
   "cell_type": "code",
   "execution_count": 30,
   "id": "d143b64a",
   "metadata": {
    "ExecuteTime": {
     "end_time": "2022-12-22T11:47:12.409197Z",
     "start_time": "2022-12-22T11:47:12.387676Z"
    }
   },
   "outputs": [
    {
     "data": {
      "text/html": [
       "<div>\n",
       "<style scoped>\n",
       "    .dataframe tbody tr th:only-of-type {\n",
       "        vertical-align: middle;\n",
       "    }\n",
       "\n",
       "    .dataframe tbody tr th {\n",
       "        vertical-align: top;\n",
       "    }\n",
       "\n",
       "    .dataframe thead th {\n",
       "        text-align: right;\n",
       "    }\n",
       "</style>\n",
       "<table border=\"1\" class=\"dataframe\">\n",
       "  <thead>\n",
       "    <tr style=\"text-align: right;\">\n",
       "      <th></th>\n",
       "      <th>carat</th>\n",
       "      <th>table</th>\n",
       "      <th>x</th>\n",
       "      <th>y</th>\n",
       "      <th>z</th>\n",
       "    </tr>\n",
       "  </thead>\n",
       "  <tbody>\n",
       "    <tr>\n",
       "      <th>28501</th>\n",
       "      <td>0.40</td>\n",
       "      <td>54.0</td>\n",
       "      <td>4.74</td>\n",
       "      <td>4.78</td>\n",
       "      <td>2.96</td>\n",
       "    </tr>\n",
       "    <tr>\n",
       "      <th>41345</th>\n",
       "      <td>0.54</td>\n",
       "      <td>54.0</td>\n",
       "      <td>5.26</td>\n",
       "      <td>5.30</td>\n",
       "      <td>3.25</td>\n",
       "    </tr>\n",
       "    <tr>\n",
       "      <th>37241</th>\n",
       "      <td>0.50</td>\n",
       "      <td>57.0</td>\n",
       "      <td>5.03</td>\n",
       "      <td>4.94</td>\n",
       "      <td>3.21</td>\n",
       "    </tr>\n",
       "    <tr>\n",
       "      <th>3002</th>\n",
       "      <td>0.81</td>\n",
       "      <td>56.0</td>\n",
       "      <td>5.95</td>\n",
       "      <td>6.00</td>\n",
       "      <td>3.71</td>\n",
       "    </tr>\n",
       "    <tr>\n",
       "      <th>36278</th>\n",
       "      <td>0.34</td>\n",
       "      <td>56.0</td>\n",
       "      <td>4.45</td>\n",
       "      <td>4.48</td>\n",
       "      <td>2.81</td>\n",
       "    </tr>\n",
       "  </tbody>\n",
       "</table>\n",
       "</div>"
      ],
      "text/plain": [
       "       carat  table     x     y     z\n",
       "28501   0.40   54.0  4.74  4.78  2.96\n",
       "41345   0.54   54.0  5.26  5.30  3.25\n",
       "37241   0.50   57.0  5.03  4.94  3.21\n",
       "3002    0.81   56.0  5.95  6.00  3.71\n",
       "36278   0.34   56.0  4.45  4.48  2.81"
      ]
     },
     "execution_count": 30,
     "metadata": {},
     "output_type": "execute_result"
    }
   ],
   "source": [
    "X_test_num.head()"
   ]
  },
  {
   "cell_type": "markdown",
   "id": "398d7482",
   "metadata": {},
   "source": [
    "## Scaling the Numerical Features in test data"
   ]
  },
  {
   "cell_type": "code",
   "execution_count": 31,
   "id": "366ff7ca",
   "metadata": {
    "ExecuteTime": {
     "end_time": "2022-12-22T11:47:13.393005Z",
     "start_time": "2022-12-22T11:47:13.376740Z"
    }
   },
   "outputs": [
    {
     "data": {
      "text/html": [
       "<div>\n",
       "<style scoped>\n",
       "    .dataframe tbody tr th:only-of-type {\n",
       "        vertical-align: middle;\n",
       "    }\n",
       "\n",
       "    .dataframe tbody tr th {\n",
       "        vertical-align: top;\n",
       "    }\n",
       "\n",
       "    .dataframe thead th {\n",
       "        text-align: right;\n",
       "    }\n",
       "</style>\n",
       "<table border=\"1\" class=\"dataframe\">\n",
       "  <thead>\n",
       "    <tr style=\"text-align: right;\">\n",
       "      <th></th>\n",
       "      <th>carat</th>\n",
       "      <th>table</th>\n",
       "      <th>x</th>\n",
       "      <th>y</th>\n",
       "      <th>z</th>\n",
       "    </tr>\n",
       "  </thead>\n",
       "  <tbody>\n",
       "    <tr>\n",
       "      <th>28501</th>\n",
       "      <td>-0.840474</td>\n",
       "      <td>-1.546186</td>\n",
       "      <td>-0.884053</td>\n",
       "      <td>-0.829939</td>\n",
       "      <td>-0.817470</td>\n",
       "    </tr>\n",
       "    <tr>\n",
       "      <th>41345</th>\n",
       "      <td>-0.545221</td>\n",
       "      <td>-1.546186</td>\n",
       "      <td>-0.420808</td>\n",
       "      <td>-0.378646</td>\n",
       "      <td>-0.408629</td>\n",
       "    </tr>\n",
       "    <tr>\n",
       "      <th>37241</th>\n",
       "      <td>-0.629579</td>\n",
       "      <td>-0.203136</td>\n",
       "      <td>-0.625705</td>\n",
       "      <td>-0.691080</td>\n",
       "      <td>-0.465021</td>\n",
       "    </tr>\n",
       "    <tr>\n",
       "      <th>3002</th>\n",
       "      <td>0.024196</td>\n",
       "      <td>-0.650819</td>\n",
       "      <td>0.193883</td>\n",
       "      <td>0.228863</td>\n",
       "      <td>0.239877</td>\n",
       "    </tr>\n",
       "    <tr>\n",
       "      <th>36278</th>\n",
       "      <td>-0.967011</td>\n",
       "      <td>-0.650819</td>\n",
       "      <td>-1.142401</td>\n",
       "      <td>-1.090300</td>\n",
       "      <td>-1.028939</td>\n",
       "    </tr>\n",
       "  </tbody>\n",
       "</table>\n",
       "</div>"
      ],
      "text/plain": [
       "          carat     table         x         y         z\n",
       "28501 -0.840474 -1.546186 -0.884053 -0.829939 -0.817470\n",
       "41345 -0.545221 -1.546186 -0.420808 -0.378646 -0.408629\n",
       "37241 -0.629579 -0.203136 -0.625705 -0.691080 -0.465021\n",
       "3002   0.024196 -0.650819  0.193883  0.228863  0.239877\n",
       "36278 -0.967011 -0.650819 -1.142401 -1.090300 -1.028939"
      ]
     },
     "execution_count": 31,
     "metadata": {},
     "output_type": "execute_result"
    }
   ],
   "source": [
    "X_test_num_rescaled = pd.DataFrame(std_scaler.transform(X_test_num), \n",
    "                                    columns = X_test_num.columns, \n",
    "                                    index = X_test_num.index)\n",
    "\n",
    "X_test_num_rescaled.head()"
   ]
  },
  {
   "cell_type": "markdown",
   "id": "4080d540",
   "metadata": {},
   "source": [
    "### Categorical Columns  -- test data preprocessing"
   ]
  },
  {
   "cell_type": "markdown",
   "id": "8dbbda97",
   "metadata": {},
   "source": [
    "## Label Encoding "
   ]
  },
  {
   "cell_type": "code",
   "execution_count": 32,
   "id": "f2b6b818",
   "metadata": {
    "ExecuteTime": {
     "end_time": "2022-12-22T11:47:14.685408Z",
     "start_time": "2022-12-22T11:47:14.651473Z"
    }
   },
   "outputs": [
    {
     "data": {
      "text/html": [
       "<div>\n",
       "<style scoped>\n",
       "    .dataframe tbody tr th:only-of-type {\n",
       "        vertical-align: middle;\n",
       "    }\n",
       "\n",
       "    .dataframe tbody tr th {\n",
       "        vertical-align: top;\n",
       "    }\n",
       "\n",
       "    .dataframe thead th {\n",
       "        text-align: right;\n",
       "    }\n",
       "</style>\n",
       "<table border=\"1\" class=\"dataframe\">\n",
       "  <thead>\n",
       "    <tr style=\"text-align: right;\">\n",
       "      <th></th>\n",
       "      <th>cut</th>\n",
       "      <th>color</th>\n",
       "      <th>clarity</th>\n",
       "    </tr>\n",
       "  </thead>\n",
       "  <tbody>\n",
       "    <tr>\n",
       "      <th>28501</th>\n",
       "      <td>5</td>\n",
       "      <td>6</td>\n",
       "      <td>3</td>\n",
       "    </tr>\n",
       "    <tr>\n",
       "      <th>41345</th>\n",
       "      <td>5</td>\n",
       "      <td>2</td>\n",
       "      <td>5</td>\n",
       "    </tr>\n",
       "    <tr>\n",
       "      <th>37241</th>\n",
       "      <td>2</td>\n",
       "      <td>5</td>\n",
       "      <td>3</td>\n",
       "    </tr>\n",
       "    <tr>\n",
       "      <th>3002</th>\n",
       "      <td>5</td>\n",
       "      <td>5</td>\n",
       "      <td>2</td>\n",
       "    </tr>\n",
       "    <tr>\n",
       "      <th>36278</th>\n",
       "      <td>3</td>\n",
       "      <td>6</td>\n",
       "      <td>2</td>\n",
       "    </tr>\n",
       "  </tbody>\n",
       "</table>\n",
       "</div>"
      ],
      "text/plain": [
       "       cut  color  clarity\n",
       "28501    5      6        3\n",
       "41345    5      2        5\n",
       "37241    2      5        3\n",
       "3002     5      5        2\n",
       "36278    3      6        2"
      ]
     },
     "execution_count": 32,
     "metadata": {},
     "output_type": "execute_result"
    }
   ],
   "source": [
    "X_test_cat['cut'] = X_test_cat['cut'].apply(lambda x : cut_encoder[x])\n",
    "\n",
    "X_test_cat['color'] = X_test_cat['color'].apply(lambda x : color_encoder[x])\n",
    "\n",
    "X_test_cat['clarity'] = X_test_cat['clarity'].apply(lambda x : clarity_encoder[x])\n",
    "\n",
    "X_test_cat.head()"
   ]
  },
  {
   "cell_type": "markdown",
   "id": "1dafe471",
   "metadata": {},
   "source": [
    "## concating all numerical and categorial transformed test data features"
   ]
  },
  {
   "cell_type": "code",
   "execution_count": 33,
   "id": "c2bf842b",
   "metadata": {
    "ExecuteTime": {
     "end_time": "2022-12-22T11:47:15.445418Z",
     "start_time": "2022-12-22T11:47:15.427910Z"
    }
   },
   "outputs": [
    {
     "data": {
      "text/html": [
       "<div>\n",
       "<style scoped>\n",
       "    .dataframe tbody tr th:only-of-type {\n",
       "        vertical-align: middle;\n",
       "    }\n",
       "\n",
       "    .dataframe tbody tr th {\n",
       "        vertical-align: top;\n",
       "    }\n",
       "\n",
       "    .dataframe thead th {\n",
       "        text-align: right;\n",
       "    }\n",
       "</style>\n",
       "<table border=\"1\" class=\"dataframe\">\n",
       "  <thead>\n",
       "    <tr style=\"text-align: right;\">\n",
       "      <th></th>\n",
       "      <th>carat</th>\n",
       "      <th>table</th>\n",
       "      <th>x</th>\n",
       "      <th>y</th>\n",
       "      <th>z</th>\n",
       "      <th>cut</th>\n",
       "      <th>color</th>\n",
       "      <th>clarity</th>\n",
       "    </tr>\n",
       "  </thead>\n",
       "  <tbody>\n",
       "    <tr>\n",
       "      <th>28501</th>\n",
       "      <td>-0.840474</td>\n",
       "      <td>-1.546186</td>\n",
       "      <td>-0.884053</td>\n",
       "      <td>-0.829939</td>\n",
       "      <td>-0.817470</td>\n",
       "      <td>5</td>\n",
       "      <td>6</td>\n",
       "      <td>3</td>\n",
       "    </tr>\n",
       "    <tr>\n",
       "      <th>41345</th>\n",
       "      <td>-0.545221</td>\n",
       "      <td>-1.546186</td>\n",
       "      <td>-0.420808</td>\n",
       "      <td>-0.378646</td>\n",
       "      <td>-0.408629</td>\n",
       "      <td>5</td>\n",
       "      <td>2</td>\n",
       "      <td>5</td>\n",
       "    </tr>\n",
       "    <tr>\n",
       "      <th>37241</th>\n",
       "      <td>-0.629579</td>\n",
       "      <td>-0.203136</td>\n",
       "      <td>-0.625705</td>\n",
       "      <td>-0.691080</td>\n",
       "      <td>-0.465021</td>\n",
       "      <td>2</td>\n",
       "      <td>5</td>\n",
       "      <td>3</td>\n",
       "    </tr>\n",
       "    <tr>\n",
       "      <th>3002</th>\n",
       "      <td>0.024196</td>\n",
       "      <td>-0.650819</td>\n",
       "      <td>0.193883</td>\n",
       "      <td>0.228863</td>\n",
       "      <td>0.239877</td>\n",
       "      <td>5</td>\n",
       "      <td>5</td>\n",
       "      <td>2</td>\n",
       "    </tr>\n",
       "    <tr>\n",
       "      <th>36278</th>\n",
       "      <td>-0.967011</td>\n",
       "      <td>-0.650819</td>\n",
       "      <td>-1.142401</td>\n",
       "      <td>-1.090300</td>\n",
       "      <td>-1.028939</td>\n",
       "      <td>3</td>\n",
       "      <td>6</td>\n",
       "      <td>2</td>\n",
       "    </tr>\n",
       "  </tbody>\n",
       "</table>\n",
       "</div>"
      ],
      "text/plain": [
       "          carat     table         x         y         z  cut  color  clarity\n",
       "28501 -0.840474 -1.546186 -0.884053 -0.829939 -0.817470    5      6        3\n",
       "41345 -0.545221 -1.546186 -0.420808 -0.378646 -0.408629    5      2        5\n",
       "37241 -0.629579 -0.203136 -0.625705 -0.691080 -0.465021    2      5        3\n",
       "3002   0.024196 -0.650819  0.193883  0.228863  0.239877    5      5        2\n",
       "36278 -0.967011 -0.650819 -1.142401 -1.090300 -1.028939    3      6        2"
      ]
     },
     "execution_count": 33,
     "metadata": {},
     "output_type": "execute_result"
    }
   ],
   "source": [
    "X_test_transformed = pd.concat([X_test_num_rescaled,X_test_cat],axis=1)\n",
    "X_test_transformed.head()"
   ]
  },
  {
   "cell_type": "markdown",
   "id": "d6a6651d",
   "metadata": {},
   "source": [
    "## KNN Regression from strach"
   ]
  },
  {
   "cell_type": "markdown",
   "id": "3cb23d1a",
   "metadata": {},
   "source": [
    "### Steps:\n",
    "- select and seprate datapoint from the given data (xq)\n",
    "- calculate the distance between each datapoint and xq and store this distance\n",
    "- Take the 5 smallest distances\n",
    "- Take mean out of above 5 records price"
   ]
  },
  {
   "cell_type": "code",
   "execution_count": 34,
   "id": "56c782bb",
   "metadata": {
    "ExecuteTime": {
     "end_time": "2022-12-22T11:47:16.775418Z",
     "start_time": "2022-12-22T11:47:16.763364Z"
    }
   },
   "outputs": [
    {
     "name": "stdout",
     "output_type": "stream",
     "text": [
      "28501 28501\n"
     ]
    }
   ],
   "source": [
    "print(X_test_transformed.index[0],y_test.index[0])\n"
   ]
  },
  {
   "cell_type": "code",
   "execution_count": 35,
   "id": "b5e9169a",
   "metadata": {
    "ExecuteTime": {
     "end_time": "2022-12-22T11:47:17.194890Z",
     "start_time": "2022-12-22T11:47:17.180832Z"
    }
   },
   "outputs": [
    {
     "data": {
      "text/plain": [
       "Index(['carat', 'table', 'x', 'y', 'z', 'cut', 'color', 'clarity'], dtype='object')"
      ]
     },
     "execution_count": 35,
     "metadata": {},
     "output_type": "execute_result"
    }
   ],
   "source": [
    "X_train_transformed.columns"
   ]
  },
  {
   "cell_type": "code",
   "execution_count": 36,
   "id": "7f54a40c",
   "metadata": {
    "ExecuteTime": {
     "end_time": "2022-12-22T11:47:17.676809Z",
     "start_time": "2022-12-22T11:47:17.664459Z"
    }
   },
   "outputs": [],
   "source": [
    "\n",
    "X_train_transformed_array = np.array(X_train_transformed)"
   ]
  },
  {
   "cell_type": "code",
   "execution_count": 37,
   "id": "93c2b5af",
   "metadata": {
    "ExecuteTime": {
     "end_time": "2022-12-22T11:48:32.523449Z",
     "start_time": "2022-12-22T11:47:18.266720Z"
    }
   },
   "outputs": [
    {
     "name": "stdout",
     "output_type": "stream",
     "text": [
      "Wall time: 1min 14s\n"
     ]
    }
   ],
   "source": [
    "%%time\n",
    "# calculating ecludian distance\n",
    "import math\n",
    "\n",
    "def y_predict(row):\n",
    "    # calculating distance\n",
    "    xq = np.array(row)\n",
    "    distance = []\n",
    "    distance = np.linalg.norm(X_train_transformed_array- xq,axis=1)\n",
    "    distance_df = pd.DataFrame(distance,index=X_train_transformed.index,columns=['distances'])\n",
    "    x_final = distance_df.sort_values('distances',ascending=True)[:5]\n",
    "    return np.mean(y_train[y_train.index.isin(list(x_final.index))])\n",
    "\n",
    "# predict the price\n",
    "price = []\n",
    "for row in X_test_transformed.values:\n",
    "    price.append(y_predict(row))"
   ]
  },
  {
   "cell_type": "code",
   "execution_count": 38,
   "id": "514f0b79",
   "metadata": {
    "ExecuteTime": {
     "end_time": "2022-12-22T11:48:32.819526Z",
     "start_time": "2022-12-22T11:48:32.525795Z"
    },
    "scrolled": true
   },
   "outputs": [
    {
     "name": "stdout",
     "output_type": "stream",
     "text": [
      "Mean Absolute Error:  349.57250353186106\n"
     ]
    },
    {
     "data": {
      "image/png": "[encoded data removed]",
      "text/plain": [
       "<Figure size 640x480 with 1 Axes>"
      ]
     },
     "metadata": {},
     "output_type": "display_data"
    }
   ],
   "source": [
    "from sklearn import metrics\n",
    "\n",
    "sns.histplot(y_test, color='blue', alpha=0.5)\n",
    "sns.histplot(price, color='red', alpha=0.5)\n",
    "\n",
    "print('Mean Absolute Error: ', metrics.mean_absolute_error(y_test, price))"
   ]
  },
  {
   "cell_type": "markdown",
   "id": "033505b5",
   "metadata": {},
   "source": [
    "## KNN Regression"
   ]
  },
  {
   "cell_type": "code",
   "execution_count": 39,
   "id": "c87f1f46",
   "metadata": {
    "ExecuteTime": {
     "end_time": "2022-12-22T11:48:33.320062Z",
     "start_time": "2022-12-22T11:48:32.820894Z"
    }
   },
   "outputs": [
    {
     "name": "stdout",
     "output_type": "stream",
     "text": [
      "Mean Absolute Error:  349.57628076436913\n",
      "Wall time: 381 ms\n"
     ]
    },
    {
     "data": {
      "image/png": "[encoded data removed]",
      "text/plain": [
       "<Figure size 640x480 with 1 Axes>"
      ]
     },
     "metadata": {},
     "output_type": "display_data"
    }
   ],
   "source": [
    "%%time\n",
    "from sklearn.neighbors import KNeighborsRegressor\n",
    "from sklearn import metrics\n",
    "\n",
    "knn = KNeighborsRegressor()\n",
    "knn.fit(X_train_transformed, y_train)\n",
    "\n",
    "y_test_pred = knn.predict(X_test_transformed)\n",
    "\n",
    "sns.histplot(y_test, color='blue', alpha=0.5)\n",
    "sns.histplot(y_test_pred, color='red', alpha=0.5)\n",
    "\n",
    "print('Mean Absolute Error: ', metrics.mean_absolute_error(y_test, y_test_pred))"
   ]
  },
  {
   "cell_type": "code",
   "execution_count": null,
   "id": "30a01cc1",
   "metadata": {},
   "outputs": [],
   "source": []
  }
 ],
 "metadata": {
  "kernelspec": {
   "display_name": "Python 3 (ipykernel)",
   "language": "python",
   "name": "python3"
  },
  "language_info": {
   "codemirror_mode": {
    "name": "ipython",
    "version": 3
   },
   "file_extension": ".py",
   "mimetype": "text/x-python",
   "name": "python",
   "nbconvert_exporter": "python",
   "pygments_lexer": "ipython3",
   "version": "3.9.13"
  }
 },
 "nbformat": 4,
 "nbformat_minor": 5
}

{
 "cells": [
  {
   "cell_type": "markdown",
   "id": "74798bca",
   "metadata": {},
   "source": [
    "Business Understanding\n",
    "\n",
    "Financial markets are fundamental institutions in any developing economy. They play a crucial role in promoting economic growth by facilitating the channeling of saving decisions into productive investment. A major concern for financial institutions is credit risk, because if not managed properly, it can lead to a banking collapse. \n",
    "\n",
    "In our banking system, banks have many products to sell but the main source of income of any bank is on its credit line. Loan is the core business part of banks. A bank's profit or a loss depends to a large extent on loans i.e. whether the customers are paying back the loan or defaulting. \n",
    "\n",
    "Though a lot of people are applying for loans. However, they may have some difficulty in repaying the loan, due to their own capability to repay loan, their personal monetary terms, etc.. It’s hard to select the genuine applicant, who will repay the loan. While doing the process manually, a lot of misconception may happen to select the genuine applicant. The banks hold the risk of losing the amount loaned to the borrowers, which is basically regarded as \"Credit risk\". \n",
    "\n",
    "Credit risk is the potential that a bank’s borrower or counterparty fails to meet its obligations in repaying the loan borrowed from the financial institutions (\"banks\").\n",
    "\n",
    "By predicting the loan defaulters, the bank can reduce its Non-Performing Assets. This makes the study of this phenomenon very important. \n",
    "\n",
    "Thus, the banks need to manage the credit risks in their portfolio both at the individual borrower and transactional level, as well as to consider the linkage between credit risks and other types of risk. This is because these are criteria to assess the success/failure of any banking lending activities.\n",
    "\n",
    "Many research confirmed that machine learning technology is highly efficient to predict this situation. This technique is applied through learning from previous data.\n",
    "\n",
    "Credit Risk Scoring Dataset\n",
    "\n",
    "Domain - Banking\n",
    "Dataset - Click here to download the dataset: credit_risk_dataset.csv\n",
    "Detailed data description of Credit Risk dataset:\n",
    "- Feature Name :                  Description\n",
    "- person_age :                       Age\n",
    "- person_income  :                   Annual Income\n",
    "- person_home_ownership :            Home ownership\n",
    "- person_emp_length   :              Employment length (in years)\n",
    "- loan_intent      :                 Loan intent\n",
    "- loan_grade     :                   Loan grade\n",
    "- loan_amnt     :                    Loan amount\n",
    "- loan_int_rate  :                   Interest rate\n",
    "- loan_status     :                  Loan status (0 is non default 1 is default)\n",
    "- loan_percent_income :              Percent income\n",
    "- cb_person_default_on_file :        Historical default\n",
    "- cb_preson_cred_hist_length :       Credit history length\n",
    "\n",
    "\n",
    "SPRINT 1 - Data Preparation and Model Building\n",
    "\n",
    "Problem Statement - Given various features about a customer like Age, Income, Loan Amount, Loan Intent, Home Ownership etc.. , predict if in case the loan is given, will the customer default or not on the Loan payments.\n",
    "\n",
    "Task - Prepare the data and build a model to predict if a customer is going to default or not.\n",
    "\n",
    "Step - 1: Load the data\n",
    "Step - 2: Document the below mentioned points properly: \n",
    "- Identify the input and output/target variables. \n",
    "- Identify the type of ML Task.\n",
    "- Identify the Evaluation Metric.\n",
    "\t- For regression task - Mean Absolute Error\n",
    "\t- For classification task - Accuracy\n",
    "Step - 3: Split the dataset into Training and Testing (recommended 75:25 split).\n",
    "Step - 4: Data preparation on train data:\n",
    "- For Numerical Variables - Standardization or Normalization (Fit and Transform)\n",
    "- For Categorical - LabelEncoding or OneHotEncoding (Choose wisely)\n",
    "Step - 5: Data preparation on test data:\n",
    "- For Numerical Variables - Standardization (Transform)\n",
    "- For Categorical - LabelEncoding or OneHotEncoding (Choose wisely)\n",
    "Step - 6: Model Training Phase - Use all the algorithms mentioned below to train separate models:\n",
    "- KNN\n",
    "- Logistic Regression\n",
    "- Support Vector Machines\n",
    "- Decision Trees\n",
    "- Random Forest\n",
    "\n",
    "\n",
    "Step - 7: Predict and evaluate each model separately using the correct evaluation metric. Use metrics.accuracy(actual, predict).\n",
    "Step - 8: Display a plot which shows all the algorithms applied along with the accuracies achieved. Write your conclusion on the best algorithm for Credit Risk Scoring.\n",
    "\n"
   ]
  },
  {
   "cell_type": "markdown",
   "id": "1eab1ed1",
   "metadata": {},
   "source": [
    "## Data Loading\n"
   ]
  },
  {
   "cell_type": "code",
   "execution_count": 1,
   "id": "b80275a6",
   "metadata": {},
   "outputs": [],
   "source": [
    "import numpy as np\n",
    "import pandas as pd\n",
    "import matplotlib.pyplot as plt\n",
    "import seaborn as sns\n",
    "import plotly.express as px"
   ]
  },
  {
   "cell_type": "code",
   "execution_count": 2,
   "id": "3b517597",
   "metadata": {
    "scrolled": true
   },
   "outputs": [
    {
     "data": {
      "text/html": [
       "<div>\n",
       "<style scoped>\n",
       "    .dataframe tbody tr th:only-of-type {\n",
       "        vertical-align: middle;\n",
       "    }\n",
       "\n",
       "    .dataframe tbody tr th {\n",
       "        vertical-align: top;\n",
       "    }\n",
       "\n",
       "    .dataframe thead th {\n",
       "        text-align: right;\n",
       "    }\n",
       "</style>\n",
       "<table border=\"1\" class=\"dataframe\">\n",
       "  <thead>\n",
       "    <tr style=\"text-align: right;\">\n",
       "      <th></th>\n",
       "      <th>person_age</th>\n",
       "      <th>person_income</th>\n",
       "      <th>person_home_ownership</th>\n",
       "      <th>person_emp_length</th>\n",
       "      <th>loan_intent</th>\n",
       "      <th>loan_grade</th>\n",
       "      <th>loan_amnt</th>\n",
       "      <th>loan_int_rate</th>\n",
       "      <th>loan_status</th>\n",
       "      <th>loan_percent_income</th>\n",
       "      <th>cb_person_default_on_file</th>\n",
       "      <th>cb_person_cred_hist_length</th>\n",
       "    </tr>\n",
       "  </thead>\n",
       "  <tbody>\n",
       "    <tr>\n",
       "      <th>0</th>\n",
       "      <td>22</td>\n",
       "      <td>59000</td>\n",
       "      <td>RENT</td>\n",
       "      <td>123.0</td>\n",
       "      <td>PERSONAL</td>\n",
       "      <td>D</td>\n",
       "      <td>35000</td>\n",
       "      <td>16.02</td>\n",
       "      <td>1</td>\n",
       "      <td>0.59</td>\n",
       "      <td>Y</td>\n",
       "      <td>3</td>\n",
       "    </tr>\n",
       "    <tr>\n",
       "      <th>1</th>\n",
       "      <td>21</td>\n",
       "      <td>9600</td>\n",
       "      <td>OWN</td>\n",
       "      <td>5.0</td>\n",
       "      <td>EDUCATION</td>\n",
       "      <td>B</td>\n",
       "      <td>1000</td>\n",
       "      <td>11.14</td>\n",
       "      <td>0</td>\n",
       "      <td>0.10</td>\n",
       "      <td>N</td>\n",
       "      <td>2</td>\n",
       "    </tr>\n",
       "    <tr>\n",
       "      <th>2</th>\n",
       "      <td>25</td>\n",
       "      <td>9600</td>\n",
       "      <td>MORTGAGE</td>\n",
       "      <td>1.0</td>\n",
       "      <td>MEDICAL</td>\n",
       "      <td>C</td>\n",
       "      <td>5500</td>\n",
       "      <td>12.87</td>\n",
       "      <td>1</td>\n",
       "      <td>0.57</td>\n",
       "      <td>N</td>\n",
       "      <td>3</td>\n",
       "    </tr>\n",
       "    <tr>\n",
       "      <th>3</th>\n",
       "      <td>23</td>\n",
       "      <td>65500</td>\n",
       "      <td>RENT</td>\n",
       "      <td>4.0</td>\n",
       "      <td>MEDICAL</td>\n",
       "      <td>C</td>\n",
       "      <td>35000</td>\n",
       "      <td>15.23</td>\n",
       "      <td>1</td>\n",
       "      <td>0.53</td>\n",
       "      <td>N</td>\n",
       "      <td>2</td>\n",
       "    </tr>\n",
       "    <tr>\n",
       "      <th>4</th>\n",
       "      <td>24</td>\n",
       "      <td>54400</td>\n",
       "      <td>RENT</td>\n",
       "      <td>8.0</td>\n",
       "      <td>MEDICAL</td>\n",
       "      <td>C</td>\n",
       "      <td>35000</td>\n",
       "      <td>14.27</td>\n",
       "      <td>1</td>\n",
       "      <td>0.55</td>\n",
       "      <td>Y</td>\n",
       "      <td>4</td>\n",
       "    </tr>\n",
       "  </tbody>\n",
       "</table>\n",
       "</div>"
      ],
      "text/plain": [
       "   person_age  person_income person_home_ownership  person_emp_length  \\\n",
       "0          22          59000                  RENT              123.0   \n",
       "1          21           9600                   OWN                5.0   \n",
       "2          25           9600              MORTGAGE                1.0   \n",
       "3          23          65500                  RENT                4.0   \n",
       "4          24          54400                  RENT                8.0   \n",
       "\n",
       "  loan_intent loan_grade  loan_amnt  loan_int_rate  loan_status  \\\n",
       "0    PERSONAL          D      35000          16.02            1   \n",
       "1   EDUCATION          B       1000          11.14            0   \n",
       "2     MEDICAL          C       5500          12.87            1   \n",
       "3     MEDICAL          C      35000          15.23            1   \n",
       "4     MEDICAL          C      35000          14.27            1   \n",
       "\n",
       "   loan_percent_income cb_person_default_on_file  cb_person_cred_hist_length  \n",
       "0                 0.59                         Y                           3  \n",
       "1                 0.10                         N                           2  \n",
       "2                 0.57                         N                           3  \n",
       "3                 0.53                         N                           2  \n",
       "4                 0.55                         Y                           4  "
      ]
     },
     "execution_count": 2,
     "metadata": {},
     "output_type": "execute_result"
    }
   ],
   "source": [
    "data = pd.read_csv('data/credit_risk_dataset.csv')\n",
    "\n",
    "data.head()"
   ]
  },
  {
   "cell_type": "markdown",
   "id": "df450b31",
   "metadata": {},
   "source": [
    "## Checking for Duplicates and null values and dropping them"
   ]
  },
  {
   "cell_type": "code",
   "execution_count": 3,
   "id": "f1d2207f",
   "metadata": {},
   "outputs": [
    {
     "data": {
      "text/plain": [
       "person_age                      int64\n",
       "person_income                   int64\n",
       "person_home_ownership          object\n",
       "person_emp_length             float64\n",
       "loan_intent                    object\n",
       "loan_grade                     object\n",
       "loan_amnt                       int64\n",
       "loan_int_rate                 float64\n",
       "loan_status                     int64\n",
       "loan_percent_income           float64\n",
       "cb_person_default_on_file      object\n",
       "cb_person_cred_hist_length      int64\n",
       "dtype: object"
      ]
     },
     "execution_count": 3,
     "metadata": {},
     "output_type": "execute_result"
    }
   ],
   "source": [
    "data.dtypes"
   ]
  },
  {
   "cell_type": "code",
   "execution_count": 4,
   "id": "e3006a4c",
   "metadata": {},
   "outputs": [
    {
     "data": {
      "text/plain": [
       "person_age                       0\n",
       "person_income                    0\n",
       "person_home_ownership            0\n",
       "person_emp_length              895\n",
       "loan_intent                      0\n",
       "loan_grade                       0\n",
       "loan_amnt                        0\n",
       "loan_int_rate                 3116\n",
       "loan_status                      0\n",
       "loan_percent_income              0\n",
       "cb_person_default_on_file        0\n",
       "cb_person_cred_hist_length       0\n",
       "dtype: int64"
      ]
     },
     "execution_count": 4,
     "metadata": {},
     "output_type": "execute_result"
    }
   ],
   "source": [
    "data.isnull().sum()\n"
   ]
  },
  {
   "cell_type": "code",
   "execution_count": 5,
   "id": "2ad248b3",
   "metadata": {},
   "outputs": [
    {
     "data": {
      "text/plain": [
       "165"
      ]
     },
     "execution_count": 5,
     "metadata": {},
     "output_type": "execute_result"
    }
   ],
   "source": [
    "data.duplicated().sum()\n"
   ]
  },
  {
   "cell_type": "code",
   "execution_count": 6,
   "id": "a4173c9a",
   "metadata": {},
   "outputs": [],
   "source": [
    "data.drop_duplicates(inplace=True)"
   ]
  },
  {
   "cell_type": "code",
   "execution_count": 7,
   "id": "b031b0f7",
   "metadata": {},
   "outputs": [
    {
     "data": {
      "text/plain": [
       "(32416, 12)"
      ]
     },
     "execution_count": 7,
     "metadata": {},
     "output_type": "execute_result"
    }
   ],
   "source": [
    "data.shape"
   ]
  },
  {
   "cell_type": "code",
   "execution_count": 8,
   "id": "651802c6",
   "metadata": {},
   "outputs": [],
   "source": [
    "data.dropna(inplace=True)"
   ]
  },
  {
   "cell_type": "code",
   "execution_count": 9,
   "id": "079ff2ae",
   "metadata": {},
   "outputs": [
    {
     "data": {
      "text/plain": [
       "(28501, 12)"
      ]
     },
     "execution_count": 9,
     "metadata": {},
     "output_type": "execute_result"
    }
   ],
   "source": [
    "data.shape"
   ]
  },
  {
   "cell_type": "markdown",
   "id": "9a93f4ca",
   "metadata": {},
   "source": [
    "# Splitting inputs and target features\n",
    "\n",
    "### Problem Statement - Given various features about a customer like Age, Income, Loan Amount, Loan Intent, Home Ownership etc.. , predict if in case the loan is given, will the customer default or not on the Loan payments.\n",
    "\n",
    "#### taget : to identify the customer default or not  --> loan_status \n",
    "#### as target is available in training data , this will be the supervised learning and the task is classification"
   ]
  },
  {
   "cell_type": "code",
   "execution_count": 10,
   "id": "2f65ac3d",
   "metadata": {},
   "outputs": [
    {
     "data": {
      "text/plain": [
       "Index(['person_age', 'person_income', 'person_home_ownership',\n",
       "       'person_emp_length', 'loan_intent', 'loan_grade', 'loan_amnt',\n",
       "       'loan_int_rate', 'loan_status', 'loan_percent_income',\n",
       "       'cb_person_default_on_file', 'cb_person_cred_hist_length'],\n",
       "      dtype='object')"
      ]
     },
     "execution_count": 10,
     "metadata": {},
     "output_type": "execute_result"
    }
   ],
   "source": [
    "data.columns"
   ]
  },
  {
   "cell_type": "markdown",
   "id": "f4a4fcc7",
   "metadata": {},
   "source": [
    "## Target and input features splitting"
   ]
  },
  {
   "cell_type": "code",
   "execution_count": 11,
   "id": "3223b744",
   "metadata": {},
   "outputs": [
    {
     "name": "stdout",
     "output_type": "stream",
     "text": [
      "Index(['person_age', 'person_income', 'person_home_ownership',\n",
      "       'person_emp_length', 'loan_intent', 'loan_grade', 'loan_amnt',\n",
      "       'loan_int_rate', 'loan_percent_income', 'cb_person_default_on_file',\n",
      "       'cb_person_cred_hist_length'],\n",
      "      dtype='object') 0        1\n",
      "1        0\n",
      "2        1\n",
      "3        1\n",
      "4        1\n",
      "        ..\n",
      "32576    0\n",
      "32577    0\n",
      "32578    1\n",
      "32579    0\n",
      "32580    0\n",
      "Name: loan_status, Length: 28501, dtype: int64\n"
     ]
    }
   ],
   "source": [
    "y = data['loan_status']\n",
    "\n",
    "x = data.drop('loan_status',axis=1)\n",
    "\n",
    "print(x.columns, y)"
   ]
  },
  {
   "cell_type": "code",
   "execution_count": 12,
   "id": "e2584f91",
   "metadata": {},
   "outputs": [],
   "source": [
    "import sklearn"
   ]
  },
  {
   "cell_type": "code",
   "execution_count": 13,
   "id": "6c66c849",
   "metadata": {},
   "outputs": [],
   "source": [
    "# split into train and test\n",
    "\n",
    "from sklearn.model_selection import train_test_split\n",
    "\n",
    "X_train, X_test, y_train, y_test = train_test_split(x, y, train_size=0.75, random_state=100)"
   ]
  },
  {
   "cell_type": "code",
   "execution_count": 14,
   "id": "8ae52f28",
   "metadata": {},
   "outputs": [
    {
     "name": "stdout",
     "output_type": "stream",
     "text": [
      "(21375, 11) (21375,)\n",
      "(7126, 11) (7126,)\n"
     ]
    },
    {
     "data": {
      "text/html": [
       "<div>\n",
       "<style scoped>\n",
       "    .dataframe tbody tr th:only-of-type {\n",
       "        vertical-align: middle;\n",
       "    }\n",
       "\n",
       "    .dataframe tbody tr th {\n",
       "        vertical-align: top;\n",
       "    }\n",
       "\n",
       "    .dataframe thead th {\n",
       "        text-align: right;\n",
       "    }\n",
       "</style>\n",
       "<table border=\"1\" class=\"dataframe\">\n",
       "  <thead>\n",
       "    <tr style=\"text-align: right;\">\n",
       "      <th></th>\n",
       "      <th>person_age</th>\n",
       "      <th>person_income</th>\n",
       "      <th>person_home_ownership</th>\n",
       "      <th>person_emp_length</th>\n",
       "      <th>loan_intent</th>\n",
       "      <th>loan_grade</th>\n",
       "      <th>loan_amnt</th>\n",
       "      <th>loan_int_rate</th>\n",
       "      <th>loan_percent_income</th>\n",
       "      <th>cb_person_default_on_file</th>\n",
       "      <th>cb_person_cred_hist_length</th>\n",
       "    </tr>\n",
       "  </thead>\n",
       "  <tbody>\n",
       "    <tr>\n",
       "      <th>29895</th>\n",
       "      <td>37</td>\n",
       "      <td>40800</td>\n",
       "      <td>OWN</td>\n",
       "      <td>0.0</td>\n",
       "      <td>VENTURE</td>\n",
       "      <td>C</td>\n",
       "      <td>4000</td>\n",
       "      <td>13.49</td>\n",
       "      <td>0.10</td>\n",
       "      <td>Y</td>\n",
       "      <td>14</td>\n",
       "    </tr>\n",
       "    <tr>\n",
       "      <th>16179</th>\n",
       "      <td>24</td>\n",
       "      <td>72000</td>\n",
       "      <td>RENT</td>\n",
       "      <td>5.0</td>\n",
       "      <td>HOMEIMPROVEMENT</td>\n",
       "      <td>B</td>\n",
       "      <td>8000</td>\n",
       "      <td>10.00</td>\n",
       "      <td>0.11</td>\n",
       "      <td>N</td>\n",
       "      <td>2</td>\n",
       "    </tr>\n",
       "    <tr>\n",
       "      <th>8060</th>\n",
       "      <td>24</td>\n",
       "      <td>55000</td>\n",
       "      <td>MORTGAGE</td>\n",
       "      <td>4.0</td>\n",
       "      <td>DEBTCONSOLIDATION</td>\n",
       "      <td>C</td>\n",
       "      <td>1600</td>\n",
       "      <td>13.79</td>\n",
       "      <td>0.03</td>\n",
       "      <td>N</td>\n",
       "      <td>2</td>\n",
       "    </tr>\n",
       "    <tr>\n",
       "      <th>24698</th>\n",
       "      <td>30</td>\n",
       "      <td>66000</td>\n",
       "      <td>RENT</td>\n",
       "      <td>5.0</td>\n",
       "      <td>EDUCATION</td>\n",
       "      <td>D</td>\n",
       "      <td>10000</td>\n",
       "      <td>14.83</td>\n",
       "      <td>0.15</td>\n",
       "      <td>Y</td>\n",
       "      <td>9</td>\n",
       "    </tr>\n",
       "    <tr>\n",
       "      <th>29322</th>\n",
       "      <td>41</td>\n",
       "      <td>75000</td>\n",
       "      <td>RENT</td>\n",
       "      <td>1.0</td>\n",
       "      <td>PERSONAL</td>\n",
       "      <td>B</td>\n",
       "      <td>20000</td>\n",
       "      <td>11.14</td>\n",
       "      <td>0.27</td>\n",
       "      <td>N</td>\n",
       "      <td>11</td>\n",
       "    </tr>\n",
       "  </tbody>\n",
       "</table>\n",
       "</div>"
      ],
      "text/plain": [
       "       person_age  person_income person_home_ownership  person_emp_length  \\\n",
       "29895          37          40800                   OWN                0.0   \n",
       "16179          24          72000                  RENT                5.0   \n",
       "8060           24          55000              MORTGAGE                4.0   \n",
       "24698          30          66000                  RENT                5.0   \n",
       "29322          41          75000                  RENT                1.0   \n",
       "\n",
       "             loan_intent loan_grade  loan_amnt  loan_int_rate  \\\n",
       "29895            VENTURE          C       4000          13.49   \n",
       "16179    HOMEIMPROVEMENT          B       8000          10.00   \n",
       "8060   DEBTCONSOLIDATION          C       1600          13.79   \n",
       "24698          EDUCATION          D      10000          14.83   \n",
       "29322           PERSONAL          B      20000          11.14   \n",
       "\n",
       "       loan_percent_income cb_person_default_on_file  \\\n",
       "29895                 0.10                         Y   \n",
       "16179                 0.11                         N   \n",
       "8060                  0.03                         N   \n",
       "24698                 0.15                         Y   \n",
       "29322                 0.27                         N   \n",
       "\n",
       "       cb_person_cred_hist_length  \n",
       "29895                          14  \n",
       "16179                           2  \n",
       "8060                            2  \n",
       "24698                           9  \n",
       "29322                          11  "
      ]
     },
     "execution_count": 14,
     "metadata": {},
     "output_type": "execute_result"
    }
   ],
   "source": [
    "print(X_train.shape, y_train.shape)\n",
    "\n",
    "print(X_test.shape, y_test.shape)\n",
    "\n",
    "X_test.head()"
   ]
  },
  {
   "cell_type": "markdown",
   "id": "b83d7014",
   "metadata": {},
   "source": [
    "###  Separating Categorical and Numerical Columns: "
   ]
  },
  {
   "cell_type": "code",
   "execution_count": 15,
   "id": "d6d71696",
   "metadata": {},
   "outputs": [],
   "source": [
    "X_train_cat = X_train.select_dtypes(include=['object'])\n",
    "\n",
    "X_train_num = X_train.select_dtypes(include=['int64','float64'])"
   ]
  },
  {
   "cell_type": "code",
   "execution_count": 16,
   "id": "b9bd4e48",
   "metadata": {},
   "outputs": [
    {
     "data": {
      "text/plain": [
       "Index(['person_home_ownership', 'loan_intent', 'loan_grade',\n",
       "       'cb_person_default_on_file'],\n",
       "      dtype='object')"
      ]
     },
     "execution_count": 16,
     "metadata": {},
     "output_type": "execute_result"
    }
   ],
   "source": [
    "X_train_cat.columns"
   ]
  },
  {
   "cell_type": "code",
   "execution_count": 17,
   "id": "96d9753e",
   "metadata": {},
   "outputs": [
    {
     "data": {
      "text/plain": [
       "Index(['person_age', 'person_income', 'person_emp_length', 'loan_amnt',\n",
       "       'loan_int_rate', 'loan_percent_income', 'cb_person_cred_hist_length'],\n",
       "      dtype='object')"
      ]
     },
     "execution_count": 17,
     "metadata": {},
     "output_type": "execute_result"
    }
   ],
   "source": [
    "X_train_num.columns"
   ]
  },
  {
   "cell_type": "markdown",
   "id": "d4dcc216",
   "metadata": {},
   "source": [
    "## Scaling the Numerical Features"
   ]
  },
  {
   "cell_type": "code",
   "execution_count": 18,
   "id": "77f67cf4",
   "metadata": {},
   "outputs": [
    {
     "data": {
      "text/html": [
       "<div>\n",
       "<style scoped>\n",
       "    .dataframe tbody tr th:only-of-type {\n",
       "        vertical-align: middle;\n",
       "    }\n",
       "\n",
       "    .dataframe tbody tr th {\n",
       "        vertical-align: top;\n",
       "    }\n",
       "\n",
       "    .dataframe thead th {\n",
       "        text-align: right;\n",
       "    }\n",
       "</style>\n",
       "<table border=\"1\" class=\"dataframe\">\n",
       "  <thead>\n",
       "    <tr style=\"text-align: right;\">\n",
       "      <th></th>\n",
       "      <th>person_age</th>\n",
       "      <th>person_income</th>\n",
       "      <th>person_emp_length</th>\n",
       "      <th>loan_amnt</th>\n",
       "      <th>loan_int_rate</th>\n",
       "      <th>loan_percent_income</th>\n",
       "      <th>cb_person_cred_hist_length</th>\n",
       "    </tr>\n",
       "  </thead>\n",
       "  <tbody>\n",
       "    <tr>\n",
       "      <th>6298</th>\n",
       "      <td>26</td>\n",
       "      <td>33600</td>\n",
       "      <td>4.0</td>\n",
       "      <td>6000</td>\n",
       "      <td>10.71</td>\n",
       "      <td>0.18</td>\n",
       "      <td>3</td>\n",
       "    </tr>\n",
       "    <tr>\n",
       "      <th>32463</th>\n",
       "      <td>53</td>\n",
       "      <td>43200</td>\n",
       "      <td>0.0</td>\n",
       "      <td>10000</td>\n",
       "      <td>9.88</td>\n",
       "      <td>0.23</td>\n",
       "      <td>30</td>\n",
       "    </tr>\n",
       "    <tr>\n",
       "      <th>31862</th>\n",
       "      <td>44</td>\n",
       "      <td>175000</td>\n",
       "      <td>9.0</td>\n",
       "      <td>15000</td>\n",
       "      <td>7.66</td>\n",
       "      <td>0.09</td>\n",
       "      <td>17</td>\n",
       "    </tr>\n",
       "    <tr>\n",
       "      <th>11016</th>\n",
       "      <td>25</td>\n",
       "      <td>63000</td>\n",
       "      <td>6.0</td>\n",
       "      <td>4200</td>\n",
       "      <td>14.22</td>\n",
       "      <td>0.07</td>\n",
       "      <td>4</td>\n",
       "    </tr>\n",
       "    <tr>\n",
       "      <th>15565</th>\n",
       "      <td>25</td>\n",
       "      <td>133000</td>\n",
       "      <td>8.0</td>\n",
       "      <td>3000</td>\n",
       "      <td>17.90</td>\n",
       "      <td>0.02</td>\n",
       "      <td>2</td>\n",
       "    </tr>\n",
       "  </tbody>\n",
       "</table>\n",
       "</div>"
      ],
      "text/plain": [
       "       person_age  person_income  person_emp_length  loan_amnt  loan_int_rate  \\\n",
       "6298           26          33600                4.0       6000          10.71   \n",
       "32463          53          43200                0.0      10000           9.88   \n",
       "31862          44         175000                9.0      15000           7.66   \n",
       "11016          25          63000                6.0       4200          14.22   \n",
       "15565          25         133000                8.0       3000          17.90   \n",
       "\n",
       "       loan_percent_income  cb_person_cred_hist_length  \n",
       "6298                  0.18                           3  \n",
       "32463                 0.23                          30  \n",
       "31862                 0.09                          17  \n",
       "11016                 0.07                           4  \n",
       "15565                 0.02                           2  "
      ]
     },
     "execution_count": 18,
     "metadata": {},
     "output_type": "execute_result"
    }
   ],
   "source": [
    "X_train_num.head()"
   ]
  },
  {
   "cell_type": "code",
   "execution_count": 19,
   "id": "f368126f",
   "metadata": {},
   "outputs": [
    {
     "data": {
      "text/html": [
       "<div>\n",
       "<style scoped>\n",
       "    .dataframe tbody tr th:only-of-type {\n",
       "        vertical-align: middle;\n",
       "    }\n",
       "\n",
       "    .dataframe tbody tr th {\n",
       "        vertical-align: top;\n",
       "    }\n",
       "\n",
       "    .dataframe thead th {\n",
       "        text-align: right;\n",
       "    }\n",
       "</style>\n",
       "<table border=\"1\" class=\"dataframe\">\n",
       "  <thead>\n",
       "    <tr style=\"text-align: right;\">\n",
       "      <th></th>\n",
       "      <th>person_age</th>\n",
       "      <th>person_income</th>\n",
       "      <th>person_emp_length</th>\n",
       "      <th>loan_amnt</th>\n",
       "      <th>loan_int_rate</th>\n",
       "      <th>loan_percent_income</th>\n",
       "      <th>cb_person_cred_hist_length</th>\n",
       "    </tr>\n",
       "  </thead>\n",
       "  <tbody>\n",
       "    <tr>\n",
       "      <th>6298</th>\n",
       "      <td>-0.278382</td>\n",
       "      <td>-0.499954</td>\n",
       "      <td>-0.188847</td>\n",
       "      <td>-0.576751</td>\n",
       "      <td>-0.107178</td>\n",
       "      <td>0.095536</td>\n",
       "      <td>-0.694560</td>\n",
       "    </tr>\n",
       "    <tr>\n",
       "      <th>32463</th>\n",
       "      <td>4.027395</td>\n",
       "      <td>-0.355098</td>\n",
       "      <td>-1.163696</td>\n",
       "      <td>0.052923</td>\n",
       "      <td>-0.363239</td>\n",
       "      <td>0.563539</td>\n",
       "      <td>5.974683</td>\n",
       "    </tr>\n",
       "    <tr>\n",
       "      <th>31862</th>\n",
       "      <td>2.592136</td>\n",
       "      <td>1.633656</td>\n",
       "      <td>1.029714</td>\n",
       "      <td>0.840016</td>\n",
       "      <td>-1.048124</td>\n",
       "      <td>-0.746869</td>\n",
       "      <td>2.763566</td>\n",
       "    </tr>\n",
       "    <tr>\n",
       "      <th>11016</th>\n",
       "      <td>-0.437856</td>\n",
       "      <td>-0.056332</td>\n",
       "      <td>0.298577</td>\n",
       "      <td>-0.860104</td>\n",
       "      <td>0.975682</td>\n",
       "      <td>-0.934071</td>\n",
       "      <td>-0.447551</td>\n",
       "    </tr>\n",
       "    <tr>\n",
       "      <th>15565</th>\n",
       "      <td>-0.437856</td>\n",
       "      <td>0.999910</td>\n",
       "      <td>0.786002</td>\n",
       "      <td>-1.049007</td>\n",
       "      <td>2.110988</td>\n",
       "      <td>-1.402074</td>\n",
       "      <td>-0.941569</td>\n",
       "    </tr>\n",
       "  </tbody>\n",
       "</table>\n",
       "</div>"
      ],
      "text/plain": [
       "       person_age  person_income  person_emp_length  loan_amnt  loan_int_rate  \\\n",
       "6298    -0.278382      -0.499954          -0.188847  -0.576751      -0.107178   \n",
       "32463    4.027395      -0.355098          -1.163696   0.052923      -0.363239   \n",
       "31862    2.592136       1.633656           1.029714   0.840016      -1.048124   \n",
       "11016   -0.437856      -0.056332           0.298577  -0.860104       0.975682   \n",
       "15565   -0.437856       0.999910           0.786002  -1.049007       2.110988   \n",
       "\n",
       "       loan_percent_income  cb_person_cred_hist_length  \n",
       "6298              0.095536                   -0.694560  \n",
       "32463             0.563539                    5.974683  \n",
       "31862            -0.746869                    2.763566  \n",
       "11016            -0.934071                   -0.447551  \n",
       "15565            -1.402074                   -0.941569  "
      ]
     },
     "execution_count": 19,
     "metadata": {},
     "output_type": "execute_result"
    }
   ],
   "source": [
    "from sklearn.preprocessing import StandardScaler\n",
    "\n",
    "std_scaler = StandardScaler()\n",
    "\n",
    "X_train_num_rescaled = pd.DataFrame(std_scaler.fit_transform(X_train_num), \n",
    "                                    columns = X_train_num.columns, \n",
    "                                    index = X_train_num.index)\n",
    "\n",
    "X_train_num_rescaled.head()"
   ]
  },
  {
   "cell_type": "markdown",
   "id": "a6012e38",
   "metadata": {},
   "source": [
    "### Categorical Columns -- identification of nomial and ordinal features"
   ]
  },
  {
   "cell_type": "code",
   "execution_count": 20,
   "id": "a0664a43",
   "metadata": {},
   "outputs": [
    {
     "data": {
      "text/html": [
       "<div>\n",
       "<style scoped>\n",
       "    .dataframe tbody tr th:only-of-type {\n",
       "        vertical-align: middle;\n",
       "    }\n",
       "\n",
       "    .dataframe tbody tr th {\n",
       "        vertical-align: top;\n",
       "    }\n",
       "\n",
       "    .dataframe thead th {\n",
       "        text-align: right;\n",
       "    }\n",
       "</style>\n",
       "<table border=\"1\" class=\"dataframe\">\n",
       "  <thead>\n",
       "    <tr style=\"text-align: right;\">\n",
       "      <th></th>\n",
       "      <th>person_home_ownership</th>\n",
       "      <th>loan_intent</th>\n",
       "      <th>loan_grade</th>\n",
       "      <th>cb_person_default_on_file</th>\n",
       "    </tr>\n",
       "  </thead>\n",
       "  <tbody>\n",
       "    <tr>\n",
       "      <th>6298</th>\n",
       "      <td>RENT</td>\n",
       "      <td>DEBTCONSOLIDATION</td>\n",
       "      <td>B</td>\n",
       "      <td>N</td>\n",
       "    </tr>\n",
       "    <tr>\n",
       "      <th>32463</th>\n",
       "      <td>RENT</td>\n",
       "      <td>VENTURE</td>\n",
       "      <td>B</td>\n",
       "      <td>N</td>\n",
       "    </tr>\n",
       "    <tr>\n",
       "      <th>31862</th>\n",
       "      <td>MORTGAGE</td>\n",
       "      <td>HOMEIMPROVEMENT</td>\n",
       "      <td>A</td>\n",
       "      <td>N</td>\n",
       "    </tr>\n",
       "    <tr>\n",
       "      <th>11016</th>\n",
       "      <td>RENT</td>\n",
       "      <td>VENTURE</td>\n",
       "      <td>C</td>\n",
       "      <td>N</td>\n",
       "    </tr>\n",
       "    <tr>\n",
       "      <th>15565</th>\n",
       "      <td>MORTGAGE</td>\n",
       "      <td>DEBTCONSOLIDATION</td>\n",
       "      <td>F</td>\n",
       "      <td>Y</td>\n",
       "    </tr>\n",
       "  </tbody>\n",
       "</table>\n",
       "</div>"
      ],
      "text/plain": [
       "      person_home_ownership        loan_intent loan_grade  \\\n",
       "6298                   RENT  DEBTCONSOLIDATION          B   \n",
       "32463                  RENT            VENTURE          B   \n",
       "31862              MORTGAGE    HOMEIMPROVEMENT          A   \n",
       "11016                  RENT            VENTURE          C   \n",
       "15565              MORTGAGE  DEBTCONSOLIDATION          F   \n",
       "\n",
       "      cb_person_default_on_file  \n",
       "6298                          N  \n",
       "32463                         N  \n",
       "31862                         N  \n",
       "11016                         N  \n",
       "15565                         Y  "
      ]
     },
     "execution_count": 20,
     "metadata": {},
     "output_type": "execute_result"
    }
   ],
   "source": [
    "X_train_cat.head()"
   ]
  },
  {
   "cell_type": "code",
   "execution_count": 21,
   "id": "20121024",
   "metadata": {},
   "outputs": [
    {
     "data": {
      "text/plain": [
       "RENT        10908\n",
       "MORTGAGE     8766\n",
       "OWN          1629\n",
       "OTHER          72\n",
       "Name: person_home_ownership, dtype: int64"
      ]
     },
     "execution_count": 21,
     "metadata": {},
     "output_type": "execute_result"
    }
   ],
   "source": [
    "X_train_cat.person_home_ownership.value_counts()"
   ]
  },
  {
   "cell_type": "code",
   "execution_count": 22,
   "id": "0494f28f",
   "metadata": {},
   "outputs": [
    {
     "data": {
      "text/plain": [
       "EDUCATION            4257\n",
       "MEDICAL              3968\n",
       "PERSONAL             3664\n",
       "VENTURE              3642\n",
       "DEBTCONSOLIDATION    3465\n",
       "HOMEIMPROVEMENT      2379\n",
       "Name: loan_intent, dtype: int64"
      ]
     },
     "execution_count": 22,
     "metadata": {},
     "output_type": "execute_result"
    }
   ],
   "source": [
    "X_train_cat.loan_intent.value_counts()"
   ]
  },
  {
   "cell_type": "code",
   "execution_count": 23,
   "id": "fb448cf0",
   "metadata": {},
   "outputs": [
    {
     "data": {
      "text/plain": [
       "A    7043\n",
       "B    6748\n",
       "C    4246\n",
       "D    2458\n",
       "E     673\n",
       "F     162\n",
       "G      45\n",
       "Name: loan_grade, dtype: int64"
      ]
     },
     "execution_count": 23,
     "metadata": {},
     "output_type": "execute_result"
    }
   ],
   "source": [
    "X_train_cat.loan_grade.value_counts()"
   ]
  },
  {
   "cell_type": "code",
   "execution_count": 24,
   "id": "c7a96967",
   "metadata": {},
   "outputs": [
    {
     "data": {
      "text/plain": [
       "N    17586\n",
       "Y     3789\n",
       "Name: cb_person_default_on_file, dtype: int64"
      ]
     },
     "execution_count": 24,
     "metadata": {},
     "output_type": "execute_result"
    }
   ],
   "source": [
    "X_train_cat.cb_person_default_on_file.value_counts()"
   ]
  },
  {
   "cell_type": "markdown",
   "id": "9cfeffe4",
   "metadata": {},
   "source": [
    "## Oridnal features : loan_grade,cb_person_default_on_file --> LabelEncoding"
   ]
  },
  {
   "cell_type": "code",
   "execution_count": 25,
   "id": "f40d4190",
   "metadata": {},
   "outputs": [
    {
     "data": {
      "text/html": [
       "<div>\n",
       "<style scoped>\n",
       "    .dataframe tbody tr th:only-of-type {\n",
       "        vertical-align: middle;\n",
       "    }\n",
       "\n",
       "    .dataframe tbody tr th {\n",
       "        vertical-align: top;\n",
       "    }\n",
       "\n",
       "    .dataframe thead th {\n",
       "        text-align: right;\n",
       "    }\n",
       "</style>\n",
       "<table border=\"1\" class=\"dataframe\">\n",
       "  <thead>\n",
       "    <tr style=\"text-align: right;\">\n",
       "      <th></th>\n",
       "      <th>person_home_ownership</th>\n",
       "      <th>loan_intent</th>\n",
       "      <th>loan_grade</th>\n",
       "      <th>cb_person_default_on_file</th>\n",
       "    </tr>\n",
       "  </thead>\n",
       "  <tbody>\n",
       "    <tr>\n",
       "      <th>6298</th>\n",
       "      <td>RENT</td>\n",
       "      <td>DEBTCONSOLIDATION</td>\n",
       "      <td>6</td>\n",
       "      <td>0</td>\n",
       "    </tr>\n",
       "    <tr>\n",
       "      <th>32463</th>\n",
       "      <td>RENT</td>\n",
       "      <td>VENTURE</td>\n",
       "      <td>6</td>\n",
       "      <td>0</td>\n",
       "    </tr>\n",
       "    <tr>\n",
       "      <th>31862</th>\n",
       "      <td>MORTGAGE</td>\n",
       "      <td>HOMEIMPROVEMENT</td>\n",
       "      <td>7</td>\n",
       "      <td>0</td>\n",
       "    </tr>\n",
       "    <tr>\n",
       "      <th>11016</th>\n",
       "      <td>RENT</td>\n",
       "      <td>VENTURE</td>\n",
       "      <td>5</td>\n",
       "      <td>0</td>\n",
       "    </tr>\n",
       "    <tr>\n",
       "      <th>15565</th>\n",
       "      <td>MORTGAGE</td>\n",
       "      <td>DEBTCONSOLIDATION</td>\n",
       "      <td>2</td>\n",
       "      <td>1</td>\n",
       "    </tr>\n",
       "  </tbody>\n",
       "</table>\n",
       "</div>"
      ],
      "text/plain": [
       "      person_home_ownership        loan_intent  loan_grade  \\\n",
       "6298                   RENT  DEBTCONSOLIDATION           6   \n",
       "32463                  RENT            VENTURE           6   \n",
       "31862              MORTGAGE    HOMEIMPROVEMENT           7   \n",
       "11016                  RENT            VENTURE           5   \n",
       "15565              MORTGAGE  DEBTCONSOLIDATION           2   \n",
       "\n",
       "       cb_person_default_on_file  \n",
       "6298                           0  \n",
       "32463                          0  \n",
       "31862                          0  \n",
       "11016                          0  \n",
       "15565                          1  "
      ]
     },
     "execution_count": 25,
     "metadata": {},
     "output_type": "execute_result"
    }
   ],
   "source": [
    "#\n",
    "\n",
    "loan_grade_encoder = {\"A\":7,\"B\":6,\"C\":5,\"D\":4,\"E\":3,\"F\":2,\"G\":1}\n",
    "\n",
    "X_train_cat['loan_grade'] = X_train_cat['loan_grade'].apply(lambda x : loan_grade_encoder[x])\n",
    "\n",
    "X_train_cat['cb_person_default_on_file'] = X_train_cat['cb_person_default_on_file'].apply(lambda x : 0 if x=='N' else 1)\n",
    "\n",
    "X_train_cat.head()"
   ]
  },
  {
   "cell_type": "markdown",
   "id": "212041ab",
   "metadata": {},
   "source": [
    "\n",
    "## Nomial features : person_home_ownership,loan_intent --> OneHotEncoding"
   ]
  },
  {
   "cell_type": "code",
   "execution_count": 26,
   "id": "a573cd5e",
   "metadata": {},
   "outputs": [],
   "source": [
    "X_train_cat_ohe = X_train_cat[[\"person_home_ownership\",\"loan_intent\"]]\n",
    "\n",
    "X_train_cat.drop([\"person_home_ownership\",\"loan_intent\"],axis=1,inplace=True)\n"
   ]
  },
  {
   "cell_type": "code",
   "execution_count": 27,
   "id": "f2586336",
   "metadata": {},
   "outputs": [
    {
     "data": {
      "text/html": [
       "<div>\n",
       "<style scoped>\n",
       "    .dataframe tbody tr th:only-of-type {\n",
       "        vertical-align: middle;\n",
       "    }\n",
       "\n",
       "    .dataframe tbody tr th {\n",
       "        vertical-align: top;\n",
       "    }\n",
       "\n",
       "    .dataframe thead th {\n",
       "        text-align: right;\n",
       "    }\n",
       "</style>\n",
       "<table border=\"1\" class=\"dataframe\">\n",
       "  <thead>\n",
       "    <tr style=\"text-align: right;\">\n",
       "      <th></th>\n",
       "      <th>person_home_ownership</th>\n",
       "      <th>loan_intent</th>\n",
       "    </tr>\n",
       "  </thead>\n",
       "  <tbody>\n",
       "    <tr>\n",
       "      <th>6298</th>\n",
       "      <td>RENT</td>\n",
       "      <td>DEBTCONSOLIDATION</td>\n",
       "    </tr>\n",
       "    <tr>\n",
       "      <th>32463</th>\n",
       "      <td>RENT</td>\n",
       "      <td>VENTURE</td>\n",
       "    </tr>\n",
       "    <tr>\n",
       "      <th>31862</th>\n",
       "      <td>MORTGAGE</td>\n",
       "      <td>HOMEIMPROVEMENT</td>\n",
       "    </tr>\n",
       "    <tr>\n",
       "      <th>11016</th>\n",
       "      <td>RENT</td>\n",
       "      <td>VENTURE</td>\n",
       "    </tr>\n",
       "    <tr>\n",
       "      <th>15565</th>\n",
       "      <td>MORTGAGE</td>\n",
       "      <td>DEBTCONSOLIDATION</td>\n",
       "    </tr>\n",
       "  </tbody>\n",
       "</table>\n",
       "</div>"
      ],
      "text/plain": [
       "      person_home_ownership        loan_intent\n",
       "6298                   RENT  DEBTCONSOLIDATION\n",
       "32463                  RENT            VENTURE\n",
       "31862              MORTGAGE    HOMEIMPROVEMENT\n",
       "11016                  RENT            VENTURE\n",
       "15565              MORTGAGE  DEBTCONSOLIDATION"
      ]
     },
     "execution_count": 27,
     "metadata": {},
     "output_type": "execute_result"
    }
   ],
   "source": [
    "X_train_cat_ohe.head()"
   ]
  },
  {
   "cell_type": "code",
   "execution_count": 28,
   "id": "ba9d442d",
   "metadata": {},
   "outputs": [
    {
     "data": {
      "text/html": [
       "<div>\n",
       "<style scoped>\n",
       "    .dataframe tbody tr th:only-of-type {\n",
       "        vertical-align: middle;\n",
       "    }\n",
       "\n",
       "    .dataframe tbody tr th {\n",
       "        vertical-align: top;\n",
       "    }\n",
       "\n",
       "    .dataframe thead th {\n",
       "        text-align: right;\n",
       "    }\n",
       "</style>\n",
       "<table border=\"1\" class=\"dataframe\">\n",
       "  <thead>\n",
       "    <tr style=\"text-align: right;\">\n",
       "      <th></th>\n",
       "      <th>loan_grade</th>\n",
       "      <th>cb_person_default_on_file</th>\n",
       "    </tr>\n",
       "  </thead>\n",
       "  <tbody>\n",
       "    <tr>\n",
       "      <th>6298</th>\n",
       "      <td>6</td>\n",
       "      <td>0</td>\n",
       "    </tr>\n",
       "    <tr>\n",
       "      <th>32463</th>\n",
       "      <td>6</td>\n",
       "      <td>0</td>\n",
       "    </tr>\n",
       "    <tr>\n",
       "      <th>31862</th>\n",
       "      <td>7</td>\n",
       "      <td>0</td>\n",
       "    </tr>\n",
       "    <tr>\n",
       "      <th>11016</th>\n",
       "      <td>5</td>\n",
       "      <td>0</td>\n",
       "    </tr>\n",
       "    <tr>\n",
       "      <th>15565</th>\n",
       "      <td>2</td>\n",
       "      <td>1</td>\n",
       "    </tr>\n",
       "  </tbody>\n",
       "</table>\n",
       "</div>"
      ],
      "text/plain": [
       "       loan_grade  cb_person_default_on_file\n",
       "6298            6                          0\n",
       "32463           6                          0\n",
       "31862           7                          0\n",
       "11016           5                          0\n",
       "15565           2                          1"
      ]
     },
     "execution_count": 28,
     "metadata": {},
     "output_type": "execute_result"
    }
   ],
   "source": [
    "X_train_cat.head()"
   ]
  },
  {
   "cell_type": "code",
   "execution_count": 29,
   "id": "c0a44bc5",
   "metadata": {
    "scrolled": true
   },
   "outputs": [
    {
     "data": {
      "text/html": [
       "<div>\n",
       "<style scoped>\n",
       "    .dataframe tbody tr th:only-of-type {\n",
       "        vertical-align: middle;\n",
       "    }\n",
       "\n",
       "    .dataframe tbody tr th {\n",
       "        vertical-align: top;\n",
       "    }\n",
       "\n",
       "    .dataframe thead th {\n",
       "        text-align: right;\n",
       "    }\n",
       "</style>\n",
       "<table border=\"1\" class=\"dataframe\">\n",
       "  <thead>\n",
       "    <tr style=\"text-align: right;\">\n",
       "      <th></th>\n",
       "      <th>person_home_ownership_RENT</th>\n",
       "      <th>person_home_ownership_infrequent_sklearn</th>\n",
       "      <th>loan_intent_EDUCATION</th>\n",
       "      <th>loan_intent_HOMEIMPROVEMENT</th>\n",
       "      <th>loan_intent_MEDICAL</th>\n",
       "      <th>loan_intent_PERSONAL</th>\n",
       "      <th>loan_intent_VENTURE</th>\n",
       "    </tr>\n",
       "  </thead>\n",
       "  <tbody>\n",
       "    <tr>\n",
       "      <th>6298</th>\n",
       "      <td>1.0</td>\n",
       "      <td>0.0</td>\n",
       "      <td>0.0</td>\n",
       "      <td>0.0</td>\n",
       "      <td>0.0</td>\n",
       "      <td>0.0</td>\n",
       "      <td>0.0</td>\n",
       "    </tr>\n",
       "    <tr>\n",
       "      <th>32463</th>\n",
       "      <td>1.0</td>\n",
       "      <td>0.0</td>\n",
       "      <td>0.0</td>\n",
       "      <td>0.0</td>\n",
       "      <td>0.0</td>\n",
       "      <td>0.0</td>\n",
       "      <td>1.0</td>\n",
       "    </tr>\n",
       "    <tr>\n",
       "      <th>31862</th>\n",
       "      <td>0.0</td>\n",
       "      <td>0.0</td>\n",
       "      <td>0.0</td>\n",
       "      <td>1.0</td>\n",
       "      <td>0.0</td>\n",
       "      <td>0.0</td>\n",
       "      <td>0.0</td>\n",
       "    </tr>\n",
       "    <tr>\n",
       "      <th>11016</th>\n",
       "      <td>1.0</td>\n",
       "      <td>0.0</td>\n",
       "      <td>0.0</td>\n",
       "      <td>0.0</td>\n",
       "      <td>0.0</td>\n",
       "      <td>0.0</td>\n",
       "      <td>1.0</td>\n",
       "    </tr>\n",
       "    <tr>\n",
       "      <th>15565</th>\n",
       "      <td>0.0</td>\n",
       "      <td>0.0</td>\n",
       "      <td>0.0</td>\n",
       "      <td>0.0</td>\n",
       "      <td>0.0</td>\n",
       "      <td>0.0</td>\n",
       "      <td>0.0</td>\n",
       "    </tr>\n",
       "  </tbody>\n",
       "</table>\n",
       "</div>"
      ],
      "text/plain": [
       "       person_home_ownership_RENT  person_home_ownership_infrequent_sklearn  \\\n",
       "6298                          1.0                                       0.0   \n",
       "32463                         1.0                                       0.0   \n",
       "31862                         0.0                                       0.0   \n",
       "11016                         1.0                                       0.0   \n",
       "15565                         0.0                                       0.0   \n",
       "\n",
       "       loan_intent_EDUCATION  loan_intent_HOMEIMPROVEMENT  \\\n",
       "6298                     0.0                          0.0   \n",
       "32463                    0.0                          0.0   \n",
       "31862                    0.0                          1.0   \n",
       "11016                    0.0                          0.0   \n",
       "15565                    0.0                          0.0   \n",
       "\n",
       "       loan_intent_MEDICAL  loan_intent_PERSONAL  loan_intent_VENTURE  \n",
       "6298                   0.0                   0.0                  0.0  \n",
       "32463                  0.0                   0.0                  1.0  \n",
       "31862                  0.0                   0.0                  0.0  \n",
       "11016                  0.0                   0.0                  1.0  \n",
       "15565                  0.0                   0.0                  0.0  "
      ]
     },
     "execution_count": 29,
     "metadata": {},
     "output_type": "execute_result"
    }
   ],
   "source": [
    "from sklearn.preprocessing import OneHotEncoder\n",
    "\n",
    "encoder_ = OneHotEncoder(drop='first', min_frequency=2000, sparse=False)\n",
    "\n",
    "# column names are (annoyingly) lost after OneHotEncoding\n",
    "# (i.e. the dataframe is converted to a numpy ndarray)\n",
    "\n",
    "X_train_cat_ohe = pd.DataFrame(encoder_.fit_transform(X_train_cat_ohe), \n",
    "                               columns=encoder_.get_feature_names_out(X_train_cat_ohe.columns), \n",
    "                               index = X_train_cat_ohe.index)\n",
    "\n",
    "X_train_cat_ohe.head()"
   ]
  },
  {
   "cell_type": "markdown",
   "id": "843eb5a4",
   "metadata": {},
   "source": [
    "## concating all numerical and categorial transformed features"
   ]
  },
  {
   "cell_type": "code",
   "execution_count": 30,
   "id": "3211d759",
   "metadata": {},
   "outputs": [
    {
     "data": {
      "text/html": [
       "<div>\n",
       "<style scoped>\n",
       "    .dataframe tbody tr th:only-of-type {\n",
       "        vertical-align: middle;\n",
       "    }\n",
       "\n",
       "    .dataframe tbody tr th {\n",
       "        vertical-align: top;\n",
       "    }\n",
       "\n",
       "    .dataframe thead th {\n",
       "        text-align: right;\n",
       "    }\n",
       "</style>\n",
       "<table border=\"1\" class=\"dataframe\">\n",
       "  <thead>\n",
       "    <tr style=\"text-align: right;\">\n",
       "      <th></th>\n",
       "      <th>person_age</th>\n",
       "      <th>person_income</th>\n",
       "      <th>person_emp_length</th>\n",
       "      <th>loan_amnt</th>\n",
       "      <th>loan_int_rate</th>\n",
       "      <th>loan_percent_income</th>\n",
       "      <th>cb_person_cred_hist_length</th>\n",
       "      <th>loan_grade</th>\n",
       "      <th>cb_person_default_on_file</th>\n",
       "      <th>person_home_ownership_RENT</th>\n",
       "      <th>person_home_ownership_infrequent_sklearn</th>\n",
       "      <th>loan_intent_EDUCATION</th>\n",
       "      <th>loan_intent_HOMEIMPROVEMENT</th>\n",
       "      <th>loan_intent_MEDICAL</th>\n",
       "      <th>loan_intent_PERSONAL</th>\n",
       "      <th>loan_intent_VENTURE</th>\n",
       "    </tr>\n",
       "  </thead>\n",
       "  <tbody>\n",
       "    <tr>\n",
       "      <th>6298</th>\n",
       "      <td>-0.278382</td>\n",
       "      <td>-0.499954</td>\n",
       "      <td>-0.188847</td>\n",
       "      <td>-0.576751</td>\n",
       "      <td>-0.107178</td>\n",
       "      <td>0.095536</td>\n",
       "      <td>-0.694560</td>\n",
       "      <td>6</td>\n",
       "      <td>0</td>\n",
       "      <td>1.0</td>\n",
       "      <td>0.0</td>\n",
       "      <td>0.0</td>\n",
       "      <td>0.0</td>\n",
       "      <td>0.0</td>\n",
       "      <td>0.0</td>\n",
       "      <td>0.0</td>\n",
       "    </tr>\n",
       "    <tr>\n",
       "      <th>32463</th>\n",
       "      <td>4.027395</td>\n",
       "      <td>-0.355098</td>\n",
       "      <td>-1.163696</td>\n",
       "      <td>0.052923</td>\n",
       "      <td>-0.363239</td>\n",
       "      <td>0.563539</td>\n",
       "      <td>5.974683</td>\n",
       "      <td>6</td>\n",
       "      <td>0</td>\n",
       "      <td>1.0</td>\n",
       "      <td>0.0</td>\n",
       "      <td>0.0</td>\n",
       "      <td>0.0</td>\n",
       "      <td>0.0</td>\n",
       "      <td>0.0</td>\n",
       "      <td>1.0</td>\n",
       "    </tr>\n",
       "    <tr>\n",
       "      <th>31862</th>\n",
       "      <td>2.592136</td>\n",
       "      <td>1.633656</td>\n",
       "      <td>1.029714</td>\n",
       "      <td>0.840016</td>\n",
       "      <td>-1.048124</td>\n",
       "      <td>-0.746869</td>\n",
       "      <td>2.763566</td>\n",
       "      <td>7</td>\n",
       "      <td>0</td>\n",
       "      <td>0.0</td>\n",
       "      <td>0.0</td>\n",
       "      <td>0.0</td>\n",
       "      <td>1.0</td>\n",
       "      <td>0.0</td>\n",
       "      <td>0.0</td>\n",
       "      <td>0.0</td>\n",
       "    </tr>\n",
       "    <tr>\n",
       "      <th>11016</th>\n",
       "      <td>-0.437856</td>\n",
       "      <td>-0.056332</td>\n",
       "      <td>0.298577</td>\n",
       "      <td>-0.860104</td>\n",
       "      <td>0.975682</td>\n",
       "      <td>-0.934071</td>\n",
       "      <td>-0.447551</td>\n",
       "      <td>5</td>\n",
       "      <td>0</td>\n",
       "      <td>1.0</td>\n",
       "      <td>0.0</td>\n",
       "      <td>0.0</td>\n",
       "      <td>0.0</td>\n",
       "      <td>0.0</td>\n",
       "      <td>0.0</td>\n",
       "      <td>1.0</td>\n",
       "    </tr>\n",
       "    <tr>\n",
       "      <th>15565</th>\n",
       "      <td>-0.437856</td>\n",
       "      <td>0.999910</td>\n",
       "      <td>0.786002</td>\n",
       "      <td>-1.049007</td>\n",
       "      <td>2.110988</td>\n",
       "      <td>-1.402074</td>\n",
       "      <td>-0.941569</td>\n",
       "      <td>2</td>\n",
       "      <td>1</td>\n",
       "      <td>0.0</td>\n",
       "      <td>0.0</td>\n",
       "      <td>0.0</td>\n",
       "      <td>0.0</td>\n",
       "      <td>0.0</td>\n",
       "      <td>0.0</td>\n",
       "      <td>0.0</td>\n",
       "    </tr>\n",
       "  </tbody>\n",
       "</table>\n",
       "</div>"
      ],
      "text/plain": [
       "       person_age  person_income  person_emp_length  loan_amnt  loan_int_rate  \\\n",
       "6298    -0.278382      -0.499954          -0.188847  -0.576751      -0.107178   \n",
       "32463    4.027395      -0.355098          -1.163696   0.052923      -0.363239   \n",
       "31862    2.592136       1.633656           1.029714   0.840016      -1.048124   \n",
       "11016   -0.437856      -0.056332           0.298577  -0.860104       0.975682   \n",
       "15565   -0.437856       0.999910           0.786002  -1.049007       2.110988   \n",
       "\n",
       "       loan_percent_income  cb_person_cred_hist_length  loan_grade  \\\n",
       "6298              0.095536                   -0.694560           6   \n",
       "32463             0.563539                    5.974683           6   \n",
       "31862            -0.746869                    2.763566           7   \n",
       "11016            -0.934071                   -0.447551           5   \n",
       "15565            -1.402074                   -0.941569           2   \n",
       "\n",
       "       cb_person_default_on_file  person_home_ownership_RENT  \\\n",
       "6298                           0                         1.0   \n",
       "32463                          0                         1.0   \n",
       "31862                          0                         0.0   \n",
       "11016                          0                         1.0   \n",
       "15565                          1                         0.0   \n",
       "\n",
       "       person_home_ownership_infrequent_sklearn  loan_intent_EDUCATION  \\\n",
       "6298                                        0.0                    0.0   \n",
       "32463                                       0.0                    0.0   \n",
       "31862                                       0.0                    0.0   \n",
       "11016                                       0.0                    0.0   \n",
       "15565                                       0.0                    0.0   \n",
       "\n",
       "       loan_intent_HOMEIMPROVEMENT  loan_intent_MEDICAL  loan_intent_PERSONAL  \\\n",
       "6298                           0.0                  0.0                   0.0   \n",
       "32463                          0.0                  0.0                   0.0   \n",
       "31862                          1.0                  0.0                   0.0   \n",
       "11016                          0.0                  0.0                   0.0   \n",
       "15565                          0.0                  0.0                   0.0   \n",
       "\n",
       "       loan_intent_VENTURE  \n",
       "6298                   0.0  \n",
       "32463                  1.0  \n",
       "31862                  0.0  \n",
       "11016                  1.0  \n",
       "15565                  0.0  "
      ]
     },
     "execution_count": 30,
     "metadata": {},
     "output_type": "execute_result"
    }
   ],
   "source": [
    "X_train_transformed = pd.concat([X_train_num_rescaled,X_train_cat,X_train_cat_ohe],axis=1)\n",
    "X_train_transformed.head()"
   ]
  },
  {
   "cell_type": "markdown",
   "id": "a00dc1e5",
   "metadata": {},
   "source": [
    "## Preparing Test Data"
   ]
  },
  {
   "cell_type": "code",
   "execution_count": 31,
   "id": "929d3153",
   "metadata": {},
   "outputs": [
    {
     "data": {
      "text/html": [
       "<div>\n",
       "<style scoped>\n",
       "    .dataframe tbody tr th:only-of-type {\n",
       "        vertical-align: middle;\n",
       "    }\n",
       "\n",
       "    .dataframe tbody tr th {\n",
       "        vertical-align: top;\n",
       "    }\n",
       "\n",
       "    .dataframe thead th {\n",
       "        text-align: right;\n",
       "    }\n",
       "</style>\n",
       "<table border=\"1\" class=\"dataframe\">\n",
       "  <thead>\n",
       "    <tr style=\"text-align: right;\">\n",
       "      <th></th>\n",
       "      <th>person_age</th>\n",
       "      <th>person_income</th>\n",
       "      <th>person_home_ownership</th>\n",
       "      <th>person_emp_length</th>\n",
       "      <th>loan_intent</th>\n",
       "      <th>loan_grade</th>\n",
       "      <th>loan_amnt</th>\n",
       "      <th>loan_int_rate</th>\n",
       "      <th>loan_percent_income</th>\n",
       "      <th>cb_person_default_on_file</th>\n",
       "      <th>cb_person_cred_hist_length</th>\n",
       "    </tr>\n",
       "  </thead>\n",
       "  <tbody>\n",
       "    <tr>\n",
       "      <th>29895</th>\n",
       "      <td>37</td>\n",
       "      <td>40800</td>\n",
       "      <td>OWN</td>\n",
       "      <td>0.0</td>\n",
       "      <td>VENTURE</td>\n",
       "      <td>C</td>\n",
       "      <td>4000</td>\n",
       "      <td>13.49</td>\n",
       "      <td>0.10</td>\n",
       "      <td>Y</td>\n",
       "      <td>14</td>\n",
       "    </tr>\n",
       "    <tr>\n",
       "      <th>16179</th>\n",
       "      <td>24</td>\n",
       "      <td>72000</td>\n",
       "      <td>RENT</td>\n",
       "      <td>5.0</td>\n",
       "      <td>HOMEIMPROVEMENT</td>\n",
       "      <td>B</td>\n",
       "      <td>8000</td>\n",
       "      <td>10.00</td>\n",
       "      <td>0.11</td>\n",
       "      <td>N</td>\n",
       "      <td>2</td>\n",
       "    </tr>\n",
       "    <tr>\n",
       "      <th>8060</th>\n",
       "      <td>24</td>\n",
       "      <td>55000</td>\n",
       "      <td>MORTGAGE</td>\n",
       "      <td>4.0</td>\n",
       "      <td>DEBTCONSOLIDATION</td>\n",
       "      <td>C</td>\n",
       "      <td>1600</td>\n",
       "      <td>13.79</td>\n",
       "      <td>0.03</td>\n",
       "      <td>N</td>\n",
       "      <td>2</td>\n",
       "    </tr>\n",
       "    <tr>\n",
       "      <th>24698</th>\n",
       "      <td>30</td>\n",
       "      <td>66000</td>\n",
       "      <td>RENT</td>\n",
       "      <td>5.0</td>\n",
       "      <td>EDUCATION</td>\n",
       "      <td>D</td>\n",
       "      <td>10000</td>\n",
       "      <td>14.83</td>\n",
       "      <td>0.15</td>\n",
       "      <td>Y</td>\n",
       "      <td>9</td>\n",
       "    </tr>\n",
       "    <tr>\n",
       "      <th>29322</th>\n",
       "      <td>41</td>\n",
       "      <td>75000</td>\n",
       "      <td>RENT</td>\n",
       "      <td>1.0</td>\n",
       "      <td>PERSONAL</td>\n",
       "      <td>B</td>\n",
       "      <td>20000</td>\n",
       "      <td>11.14</td>\n",
       "      <td>0.27</td>\n",
       "      <td>N</td>\n",
       "      <td>11</td>\n",
       "    </tr>\n",
       "  </tbody>\n",
       "</table>\n",
       "</div>"
      ],
      "text/plain": [
       "       person_age  person_income person_home_ownership  person_emp_length  \\\n",
       "29895          37          40800                   OWN                0.0   \n",
       "16179          24          72000                  RENT                5.0   \n",
       "8060           24          55000              MORTGAGE                4.0   \n",
       "24698          30          66000                  RENT                5.0   \n",
       "29322          41          75000                  RENT                1.0   \n",
       "\n",
       "             loan_intent loan_grade  loan_amnt  loan_int_rate  \\\n",
       "29895            VENTURE          C       4000          13.49   \n",
       "16179    HOMEIMPROVEMENT          B       8000          10.00   \n",
       "8060   DEBTCONSOLIDATION          C       1600          13.79   \n",
       "24698          EDUCATION          D      10000          14.83   \n",
       "29322           PERSONAL          B      20000          11.14   \n",
       "\n",
       "       loan_percent_income cb_person_default_on_file  \\\n",
       "29895                 0.10                         Y   \n",
       "16179                 0.11                         N   \n",
       "8060                  0.03                         N   \n",
       "24698                 0.15                         Y   \n",
       "29322                 0.27                         N   \n",
       "\n",
       "       cb_person_cred_hist_length  \n",
       "29895                          14  \n",
       "16179                           2  \n",
       "8060                            2  \n",
       "24698                           9  \n",
       "29322                          11  "
      ]
     },
     "execution_count": 31,
     "metadata": {},
     "output_type": "execute_result"
    }
   ],
   "source": [
    "X_test.head()"
   ]
  },
  {
   "cell_type": "code",
   "execution_count": 32,
   "id": "47f57782",
   "metadata": {},
   "outputs": [],
   "source": [
    "X_test_cat = X_test.select_dtypes(include=['object'])\n",
    "\n",
    "X_test_num = X_test.select_dtypes(include=['int64','float64'])"
   ]
  },
  {
   "cell_type": "code",
   "execution_count": 33,
   "id": "84686906",
   "metadata": {},
   "outputs": [
    {
     "data": {
      "text/html": [
       "<div>\n",
       "<style scoped>\n",
       "    .dataframe tbody tr th:only-of-type {\n",
       "        vertical-align: middle;\n",
       "    }\n",
       "\n",
       "    .dataframe tbody tr th {\n",
       "        vertical-align: top;\n",
       "    }\n",
       "\n",
       "    .dataframe thead th {\n",
       "        text-align: right;\n",
       "    }\n",
       "</style>\n",
       "<table border=\"1\" class=\"dataframe\">\n",
       "  <thead>\n",
       "    <tr style=\"text-align: right;\">\n",
       "      <th></th>\n",
       "      <th>person_home_ownership</th>\n",
       "      <th>loan_intent</th>\n",
       "      <th>loan_grade</th>\n",
       "      <th>cb_person_default_on_file</th>\n",
       "    </tr>\n",
       "  </thead>\n",
       "  <tbody>\n",
       "    <tr>\n",
       "      <th>29895</th>\n",
       "      <td>OWN</td>\n",
       "      <td>VENTURE</td>\n",
       "      <td>C</td>\n",
       "      <td>Y</td>\n",
       "    </tr>\n",
       "    <tr>\n",
       "      <th>16179</th>\n",
       "      <td>RENT</td>\n",
       "      <td>HOMEIMPROVEMENT</td>\n",
       "      <td>B</td>\n",
       "      <td>N</td>\n",
       "    </tr>\n",
       "    <tr>\n",
       "      <th>8060</th>\n",
       "      <td>MORTGAGE</td>\n",
       "      <td>DEBTCONSOLIDATION</td>\n",
       "      <td>C</td>\n",
       "      <td>N</td>\n",
       "    </tr>\n",
       "    <tr>\n",
       "      <th>24698</th>\n",
       "      <td>RENT</td>\n",
       "      <td>EDUCATION</td>\n",
       "      <td>D</td>\n",
       "      <td>Y</td>\n",
       "    </tr>\n",
       "    <tr>\n",
       "      <th>29322</th>\n",
       "      <td>RENT</td>\n",
       "      <td>PERSONAL</td>\n",
       "      <td>B</td>\n",
       "      <td>N</td>\n",
       "    </tr>\n",
       "  </tbody>\n",
       "</table>\n",
       "</div>"
      ],
      "text/plain": [
       "      person_home_ownership        loan_intent loan_grade  \\\n",
       "29895                   OWN            VENTURE          C   \n",
       "16179                  RENT    HOMEIMPROVEMENT          B   \n",
       "8060               MORTGAGE  DEBTCONSOLIDATION          C   \n",
       "24698                  RENT          EDUCATION          D   \n",
       "29322                  RENT           PERSONAL          B   \n",
       "\n",
       "      cb_person_default_on_file  \n",
       "29895                         Y  \n",
       "16179                         N  \n",
       "8060                          N  \n",
       "24698                         Y  \n",
       "29322                         N  "
      ]
     },
     "execution_count": 33,
     "metadata": {},
     "output_type": "execute_result"
    }
   ],
   "source": [
    "X_test_cat.head()"
   ]
  },
  {
   "cell_type": "code",
   "execution_count": 34,
   "id": "38598549",
   "metadata": {},
   "outputs": [
    {
     "data": {
      "text/html": [
       "<div>\n",
       "<style scoped>\n",
       "    .dataframe tbody tr th:only-of-type {\n",
       "        vertical-align: middle;\n",
       "    }\n",
       "\n",
       "    .dataframe tbody tr th {\n",
       "        vertical-align: top;\n",
       "    }\n",
       "\n",
       "    .dataframe thead th {\n",
       "        text-align: right;\n",
       "    }\n",
       "</style>\n",
       "<table border=\"1\" class=\"dataframe\">\n",
       "  <thead>\n",
       "    <tr style=\"text-align: right;\">\n",
       "      <th></th>\n",
       "      <th>person_age</th>\n",
       "      <th>person_income</th>\n",
       "      <th>person_emp_length</th>\n",
       "      <th>loan_amnt</th>\n",
       "      <th>loan_int_rate</th>\n",
       "      <th>loan_percent_income</th>\n",
       "      <th>cb_person_cred_hist_length</th>\n",
       "    </tr>\n",
       "  </thead>\n",
       "  <tbody>\n",
       "    <tr>\n",
       "      <th>29895</th>\n",
       "      <td>37</td>\n",
       "      <td>40800</td>\n",
       "      <td>0.0</td>\n",
       "      <td>4000</td>\n",
       "      <td>13.49</td>\n",
       "      <td>0.10</td>\n",
       "      <td>14</td>\n",
       "    </tr>\n",
       "    <tr>\n",
       "      <th>16179</th>\n",
       "      <td>24</td>\n",
       "      <td>72000</td>\n",
       "      <td>5.0</td>\n",
       "      <td>8000</td>\n",
       "      <td>10.00</td>\n",
       "      <td>0.11</td>\n",
       "      <td>2</td>\n",
       "    </tr>\n",
       "    <tr>\n",
       "      <th>8060</th>\n",
       "      <td>24</td>\n",
       "      <td>55000</td>\n",
       "      <td>4.0</td>\n",
       "      <td>1600</td>\n",
       "      <td>13.79</td>\n",
       "      <td>0.03</td>\n",
       "      <td>2</td>\n",
       "    </tr>\n",
       "    <tr>\n",
       "      <th>24698</th>\n",
       "      <td>30</td>\n",
       "      <td>66000</td>\n",
       "      <td>5.0</td>\n",
       "      <td>10000</td>\n",
       "      <td>14.83</td>\n",
       "      <td>0.15</td>\n",
       "      <td>9</td>\n",
       "    </tr>\n",
       "    <tr>\n",
       "      <th>29322</th>\n",
       "      <td>41</td>\n",
       "      <td>75000</td>\n",
       "      <td>1.0</td>\n",
       "      <td>20000</td>\n",
       "      <td>11.14</td>\n",
       "      <td>0.27</td>\n",
       "      <td>11</td>\n",
       "    </tr>\n",
       "  </tbody>\n",
       "</table>\n",
       "</div>"
      ],
      "text/plain": [
       "       person_age  person_income  person_emp_length  loan_amnt  loan_int_rate  \\\n",
       "29895          37          40800                0.0       4000          13.49   \n",
       "16179          24          72000                5.0       8000          10.00   \n",
       "8060           24          55000                4.0       1600          13.79   \n",
       "24698          30          66000                5.0      10000          14.83   \n",
       "29322          41          75000                1.0      20000          11.14   \n",
       "\n",
       "       loan_percent_income  cb_person_cred_hist_length  \n",
       "29895                 0.10                          14  \n",
       "16179                 0.11                           2  \n",
       "8060                  0.03                           2  \n",
       "24698                 0.15                           9  \n",
       "29322                 0.27                          11  "
      ]
     },
     "execution_count": 34,
     "metadata": {},
     "output_type": "execute_result"
    }
   ],
   "source": [
    "X_test_num.head()"
   ]
  },
  {
   "cell_type": "markdown",
   "id": "6e7de8d8",
   "metadata": {},
   "source": [
    "## Scaling the Numerical Features in test data"
   ]
  },
  {
   "cell_type": "code",
   "execution_count": 35,
   "id": "e81577c2",
   "metadata": {},
   "outputs": [
    {
     "data": {
      "text/html": [
       "<div>\n",
       "<style scoped>\n",
       "    .dataframe tbody tr th:only-of-type {\n",
       "        vertical-align: middle;\n",
       "    }\n",
       "\n",
       "    .dataframe tbody tr th {\n",
       "        vertical-align: top;\n",
       "    }\n",
       "\n",
       "    .dataframe thead th {\n",
       "        text-align: right;\n",
       "    }\n",
       "</style>\n",
       "<table border=\"1\" class=\"dataframe\">\n",
       "  <thead>\n",
       "    <tr style=\"text-align: right;\">\n",
       "      <th></th>\n",
       "      <th>person_age</th>\n",
       "      <th>person_income</th>\n",
       "      <th>person_emp_length</th>\n",
       "      <th>loan_amnt</th>\n",
       "      <th>loan_int_rate</th>\n",
       "      <th>loan_percent_income</th>\n",
       "      <th>cb_person_cred_hist_length</th>\n",
       "    </tr>\n",
       "  </thead>\n",
       "  <tbody>\n",
       "    <tr>\n",
       "      <th>29895</th>\n",
       "      <td>1.475823</td>\n",
       "      <td>-0.391312</td>\n",
       "      <td>-1.163696</td>\n",
       "      <td>-0.891588</td>\n",
       "      <td>0.750472</td>\n",
       "      <td>-0.653269</td>\n",
       "      <td>2.022539</td>\n",
       "    </tr>\n",
       "    <tr>\n",
       "      <th>16179</th>\n",
       "      <td>-0.597329</td>\n",
       "      <td>0.079471</td>\n",
       "      <td>0.054865</td>\n",
       "      <td>-0.261914</td>\n",
       "      <td>-0.326218</td>\n",
       "      <td>-0.559668</td>\n",
       "      <td>-0.941569</td>\n",
       "    </tr>\n",
       "    <tr>\n",
       "      <th>8060</th>\n",
       "      <td>-0.597329</td>\n",
       "      <td>-0.177045</td>\n",
       "      <td>-0.188847</td>\n",
       "      <td>-1.269392</td>\n",
       "      <td>0.843024</td>\n",
       "      <td>-1.308473</td>\n",
       "      <td>-0.941569</td>\n",
       "    </tr>\n",
       "    <tr>\n",
       "      <th>24698</th>\n",
       "      <td>0.359510</td>\n",
       "      <td>-0.011064</td>\n",
       "      <td>0.054865</td>\n",
       "      <td>0.052923</td>\n",
       "      <td>1.163871</td>\n",
       "      <td>-0.185266</td>\n",
       "      <td>0.787494</td>\n",
       "    </tr>\n",
       "    <tr>\n",
       "      <th>29322</th>\n",
       "      <td>2.113716</td>\n",
       "      <td>0.124738</td>\n",
       "      <td>-0.919984</td>\n",
       "      <td>1.627109</td>\n",
       "      <td>0.025480</td>\n",
       "      <td>0.937942</td>\n",
       "      <td>1.281512</td>\n",
       "    </tr>\n",
       "  </tbody>\n",
       "</table>\n",
       "</div>"
      ],
      "text/plain": [
       "       person_age  person_income  person_emp_length  loan_amnt  loan_int_rate  \\\n",
       "29895    1.475823      -0.391312          -1.163696  -0.891588       0.750472   \n",
       "16179   -0.597329       0.079471           0.054865  -0.261914      -0.326218   \n",
       "8060    -0.597329      -0.177045          -0.188847  -1.269392       0.843024   \n",
       "24698    0.359510      -0.011064           0.054865   0.052923       1.163871   \n",
       "29322    2.113716       0.124738          -0.919984   1.627109       0.025480   \n",
       "\n",
       "       loan_percent_income  cb_person_cred_hist_length  \n",
       "29895            -0.653269                    2.022539  \n",
       "16179            -0.559668                   -0.941569  \n",
       "8060             -1.308473                   -0.941569  \n",
       "24698            -0.185266                    0.787494  \n",
       "29322             0.937942                    1.281512  "
      ]
     },
     "execution_count": 35,
     "metadata": {},
     "output_type": "execute_result"
    }
   ],
   "source": [
    "X_test_num_rescaled = pd.DataFrame(std_scaler.transform(X_test_num), \n",
    "                                    columns = X_test_num.columns, \n",
    "                                    index = X_test_num.index)\n",
    "\n",
    "X_test_num_rescaled.head()"
   ]
  },
  {
   "cell_type": "markdown",
   "id": "983e3ec4",
   "metadata": {},
   "source": [
    "### Categorical Columns  -- test data preprocessing"
   ]
  },
  {
   "cell_type": "code",
   "execution_count": 36,
   "id": "1d809292",
   "metadata": {},
   "outputs": [
    {
     "data": {
      "text/html": [
       "<div>\n",
       "<style scoped>\n",
       "    .dataframe tbody tr th:only-of-type {\n",
       "        vertical-align: middle;\n",
       "    }\n",
       "\n",
       "    .dataframe tbody tr th {\n",
       "        vertical-align: top;\n",
       "    }\n",
       "\n",
       "    .dataframe thead th {\n",
       "        text-align: right;\n",
       "    }\n",
       "</style>\n",
       "<table border=\"1\" class=\"dataframe\">\n",
       "  <thead>\n",
       "    <tr style=\"text-align: right;\">\n",
       "      <th></th>\n",
       "      <th>person_home_ownership</th>\n",
       "      <th>loan_intent</th>\n",
       "      <th>loan_grade</th>\n",
       "      <th>cb_person_default_on_file</th>\n",
       "    </tr>\n",
       "  </thead>\n",
       "  <tbody>\n",
       "    <tr>\n",
       "      <th>29895</th>\n",
       "      <td>OWN</td>\n",
       "      <td>VENTURE</td>\n",
       "      <td>5</td>\n",
       "      <td>1</td>\n",
       "    </tr>\n",
       "    <tr>\n",
       "      <th>16179</th>\n",
       "      <td>RENT</td>\n",
       "      <td>HOMEIMPROVEMENT</td>\n",
       "      <td>6</td>\n",
       "      <td>0</td>\n",
       "    </tr>\n",
       "    <tr>\n",
       "      <th>8060</th>\n",
       "      <td>MORTGAGE</td>\n",
       "      <td>DEBTCONSOLIDATION</td>\n",
       "      <td>5</td>\n",
       "      <td>0</td>\n",
       "    </tr>\n",
       "    <tr>\n",
       "      <th>24698</th>\n",
       "      <td>RENT</td>\n",
       "      <td>EDUCATION</td>\n",
       "      <td>4</td>\n",
       "      <td>1</td>\n",
       "    </tr>\n",
       "    <tr>\n",
       "      <th>29322</th>\n",
       "      <td>RENT</td>\n",
       "      <td>PERSONAL</td>\n",
       "      <td>6</td>\n",
       "      <td>0</td>\n",
       "    </tr>\n",
       "  </tbody>\n",
       "</table>\n",
       "</div>"
      ],
      "text/plain": [
       "      person_home_ownership        loan_intent  loan_grade  \\\n",
       "29895                   OWN            VENTURE           5   \n",
       "16179                  RENT    HOMEIMPROVEMENT           6   \n",
       "8060               MORTGAGE  DEBTCONSOLIDATION           5   \n",
       "24698                  RENT          EDUCATION           4   \n",
       "29322                  RENT           PERSONAL           6   \n",
       "\n",
       "       cb_person_default_on_file  \n",
       "29895                          1  \n",
       "16179                          0  \n",
       "8060                           0  \n",
       "24698                          1  \n",
       "29322                          0  "
      ]
     },
     "execution_count": 36,
     "metadata": {},
     "output_type": "execute_result"
    }
   ],
   "source": [
    "## LabelEncoding\n",
    "\n",
    "X_test_cat['loan_grade'] = X_test_cat['loan_grade'].apply(lambda x : loan_grade_encoder[x])\n",
    "\n",
    "X_test_cat['cb_person_default_on_file'] = X_test_cat['cb_person_default_on_file'].apply(lambda x : 0 if x=='N' else 1)\n",
    "\n",
    "X_test_cat.head()"
   ]
  },
  {
   "cell_type": "markdown",
   "id": "29cb1960",
   "metadata": {},
   "source": [
    "## OneHot Encoding "
   ]
  },
  {
   "cell_type": "code",
   "execution_count": 37,
   "id": "c5b976e4",
   "metadata": {},
   "outputs": [],
   "source": [
    "X_test_cat_ohe = X_test_cat[[\"person_home_ownership\",\"loan_intent\"]]\n",
    "\n",
    "X_test_cat.drop([\"person_home_ownership\",\"loan_intent\"],axis=1,inplace=True)"
   ]
  },
  {
   "cell_type": "code",
   "execution_count": 38,
   "id": "af6abc35",
   "metadata": {},
   "outputs": [
    {
     "data": {
      "text/html": [
       "<div>\n",
       "<style scoped>\n",
       "    .dataframe tbody tr th:only-of-type {\n",
       "        vertical-align: middle;\n",
       "    }\n",
       "\n",
       "    .dataframe tbody tr th {\n",
       "        vertical-align: top;\n",
       "    }\n",
       "\n",
       "    .dataframe thead th {\n",
       "        text-align: right;\n",
       "    }\n",
       "</style>\n",
       "<table border=\"1\" class=\"dataframe\">\n",
       "  <thead>\n",
       "    <tr style=\"text-align: right;\">\n",
       "      <th></th>\n",
       "      <th>person_home_ownership_RENT</th>\n",
       "      <th>person_home_ownership_infrequent_sklearn</th>\n",
       "      <th>loan_intent_EDUCATION</th>\n",
       "      <th>loan_intent_HOMEIMPROVEMENT</th>\n",
       "      <th>loan_intent_MEDICAL</th>\n",
       "      <th>loan_intent_PERSONAL</th>\n",
       "      <th>loan_intent_VENTURE</th>\n",
       "    </tr>\n",
       "  </thead>\n",
       "  <tbody>\n",
       "    <tr>\n",
       "      <th>29895</th>\n",
       "      <td>0.0</td>\n",
       "      <td>1.0</td>\n",
       "      <td>0.0</td>\n",
       "      <td>0.0</td>\n",
       "      <td>0.0</td>\n",
       "      <td>0.0</td>\n",
       "      <td>1.0</td>\n",
       "    </tr>\n",
       "    <tr>\n",
       "      <th>16179</th>\n",
       "      <td>1.0</td>\n",
       "      <td>0.0</td>\n",
       "      <td>0.0</td>\n",
       "      <td>1.0</td>\n",
       "      <td>0.0</td>\n",
       "      <td>0.0</td>\n",
       "      <td>0.0</td>\n",
       "    </tr>\n",
       "    <tr>\n",
       "      <th>8060</th>\n",
       "      <td>0.0</td>\n",
       "      <td>0.0</td>\n",
       "      <td>0.0</td>\n",
       "      <td>0.0</td>\n",
       "      <td>0.0</td>\n",
       "      <td>0.0</td>\n",
       "      <td>0.0</td>\n",
       "    </tr>\n",
       "    <tr>\n",
       "      <th>24698</th>\n",
       "      <td>1.0</td>\n",
       "      <td>0.0</td>\n",
       "      <td>1.0</td>\n",
       "      <td>0.0</td>\n",
       "      <td>0.0</td>\n",
       "      <td>0.0</td>\n",
       "      <td>0.0</td>\n",
       "    </tr>\n",
       "    <tr>\n",
       "      <th>29322</th>\n",
       "      <td>1.0</td>\n",
       "      <td>0.0</td>\n",
       "      <td>0.0</td>\n",
       "      <td>0.0</td>\n",
       "      <td>0.0</td>\n",
       "      <td>1.0</td>\n",
       "      <td>0.0</td>\n",
       "    </tr>\n",
       "  </tbody>\n",
       "</table>\n",
       "</div>"
      ],
      "text/plain": [
       "       person_home_ownership_RENT  person_home_ownership_infrequent_sklearn  \\\n",
       "29895                         0.0                                       1.0   \n",
       "16179                         1.0                                       0.0   \n",
       "8060                          0.0                                       0.0   \n",
       "24698                         1.0                                       0.0   \n",
       "29322                         1.0                                       0.0   \n",
       "\n",
       "       loan_intent_EDUCATION  loan_intent_HOMEIMPROVEMENT  \\\n",
       "29895                    0.0                          0.0   \n",
       "16179                    0.0                          1.0   \n",
       "8060                     0.0                          0.0   \n",
       "24698                    1.0                          0.0   \n",
       "29322                    0.0                          0.0   \n",
       "\n",
       "       loan_intent_MEDICAL  loan_intent_PERSONAL  loan_intent_VENTURE  \n",
       "29895                  0.0                   0.0                  1.0  \n",
       "16179                  0.0                   0.0                  0.0  \n",
       "8060                   0.0                   0.0                  0.0  \n",
       "24698                  0.0                   0.0                  0.0  \n",
       "29322                  0.0                   1.0                  0.0  "
      ]
     },
     "execution_count": 38,
     "metadata": {},
     "output_type": "execute_result"
    }
   ],
   "source": [
    "X_test_cat_ohe = pd.DataFrame(encoder_.transform(X_test_cat_ohe), \n",
    "                               columns=encoder_.get_feature_names_out(X_test_cat_ohe.columns), \n",
    "                               index = X_test_cat_ohe.index)\n",
    "\n",
    "X_test_cat_ohe.head()"
   ]
  },
  {
   "cell_type": "markdown",
   "id": "0c6197f6",
   "metadata": {},
   "source": [
    "## concating all numerical and categorial transformed test data features"
   ]
  },
  {
   "cell_type": "code",
   "execution_count": 39,
   "id": "d67a9132",
   "metadata": {},
   "outputs": [
    {
     "data": {
      "text/html": [
       "<div>\n",
       "<style scoped>\n",
       "    .dataframe tbody tr th:only-of-type {\n",
       "        vertical-align: middle;\n",
       "    }\n",
       "\n",
       "    .dataframe tbody tr th {\n",
       "        vertical-align: top;\n",
       "    }\n",
       "\n",
       "    .dataframe thead th {\n",
       "        text-align: right;\n",
       "    }\n",
       "</style>\n",
       "<table border=\"1\" class=\"dataframe\">\n",
       "  <thead>\n",
       "    <tr style=\"text-align: right;\">\n",
       "      <th></th>\n",
       "      <th>person_age</th>\n",
       "      <th>person_income</th>\n",
       "      <th>person_emp_length</th>\n",
       "      <th>loan_amnt</th>\n",
       "      <th>loan_int_rate</th>\n",
       "      <th>loan_percent_income</th>\n",
       "      <th>cb_person_cred_hist_length</th>\n",
       "      <th>loan_grade</th>\n",
       "      <th>cb_person_default_on_file</th>\n",
       "      <th>person_home_ownership_RENT</th>\n",
       "      <th>person_home_ownership_infrequent_sklearn</th>\n",
       "      <th>loan_intent_EDUCATION</th>\n",
       "      <th>loan_intent_HOMEIMPROVEMENT</th>\n",
       "      <th>loan_intent_MEDICAL</th>\n",
       "      <th>loan_intent_PERSONAL</th>\n",
       "      <th>loan_intent_VENTURE</th>\n",
       "    </tr>\n",
       "  </thead>\n",
       "  <tbody>\n",
       "    <tr>\n",
       "      <th>29895</th>\n",
       "      <td>1.475823</td>\n",
       "      <td>-0.391312</td>\n",
       "      <td>-1.163696</td>\n",
       "      <td>-0.891588</td>\n",
       "      <td>0.750472</td>\n",
       "      <td>-0.653269</td>\n",
       "      <td>2.022539</td>\n",
       "      <td>5</td>\n",
       "      <td>1</td>\n",
       "      <td>0.0</td>\n",
       "      <td>1.0</td>\n",
       "      <td>0.0</td>\n",
       "      <td>0.0</td>\n",
       "      <td>0.0</td>\n",
       "      <td>0.0</td>\n",
       "      <td>1.0</td>\n",
       "    </tr>\n",
       "    <tr>\n",
       "      <th>16179</th>\n",
       "      <td>-0.597329</td>\n",
       "      <td>0.079471</td>\n",
       "      <td>0.054865</td>\n",
       "      <td>-0.261914</td>\n",
       "      <td>-0.326218</td>\n",
       "      <td>-0.559668</td>\n",
       "      <td>-0.941569</td>\n",
       "      <td>6</td>\n",
       "      <td>0</td>\n",
       "      <td>1.0</td>\n",
       "      <td>0.0</td>\n",
       "      <td>0.0</td>\n",
       "      <td>1.0</td>\n",
       "      <td>0.0</td>\n",
       "      <td>0.0</td>\n",
       "      <td>0.0</td>\n",
       "    </tr>\n",
       "    <tr>\n",
       "      <th>8060</th>\n",
       "      <td>-0.597329</td>\n",
       "      <td>-0.177045</td>\n",
       "      <td>-0.188847</td>\n",
       "      <td>-1.269392</td>\n",
       "      <td>0.843024</td>\n",
       "      <td>-1.308473</td>\n",
       "      <td>-0.941569</td>\n",
       "      <td>5</td>\n",
       "      <td>0</td>\n",
       "      <td>0.0</td>\n",
       "      <td>0.0</td>\n",
       "      <td>0.0</td>\n",
       "      <td>0.0</td>\n",
       "      <td>0.0</td>\n",
       "      <td>0.0</td>\n",
       "      <td>0.0</td>\n",
       "    </tr>\n",
       "    <tr>\n",
       "      <th>24698</th>\n",
       "      <td>0.359510</td>\n",
       "      <td>-0.011064</td>\n",
       "      <td>0.054865</td>\n",
       "      <td>0.052923</td>\n",
       "      <td>1.163871</td>\n",
       "      <td>-0.185266</td>\n",
       "      <td>0.787494</td>\n",
       "      <td>4</td>\n",
       "      <td>1</td>\n",
       "      <td>1.0</td>\n",
       "      <td>0.0</td>\n",
       "      <td>1.0</td>\n",
       "      <td>0.0</td>\n",
       "      <td>0.0</td>\n",
       "      <td>0.0</td>\n",
       "      <td>0.0</td>\n",
       "    </tr>\n",
       "    <tr>\n",
       "      <th>29322</th>\n",
       "      <td>2.113716</td>\n",
       "      <td>0.124738</td>\n",
       "      <td>-0.919984</td>\n",
       "      <td>1.627109</td>\n",
       "      <td>0.025480</td>\n",
       "      <td>0.937942</td>\n",
       "      <td>1.281512</td>\n",
       "      <td>6</td>\n",
       "      <td>0</td>\n",
       "      <td>1.0</td>\n",
       "      <td>0.0</td>\n",
       "      <td>0.0</td>\n",
       "      <td>0.0</td>\n",
       "      <td>0.0</td>\n",
       "      <td>1.0</td>\n",
       "      <td>0.0</td>\n",
       "    </tr>\n",
       "  </tbody>\n",
       "</table>\n",
       "</div>"
      ],
      "text/plain": [
       "       person_age  person_income  person_emp_length  loan_amnt  loan_int_rate  \\\n",
       "29895    1.475823      -0.391312          -1.163696  -0.891588       0.750472   \n",
       "16179   -0.597329       0.079471           0.054865  -0.261914      -0.326218   \n",
       "8060    -0.597329      -0.177045          -0.188847  -1.269392       0.843024   \n",
       "24698    0.359510      -0.011064           0.054865   0.052923       1.163871   \n",
       "29322    2.113716       0.124738          -0.919984   1.627109       0.025480   \n",
       "\n",
       "       loan_percent_income  cb_person_cred_hist_length  loan_grade  \\\n",
       "29895            -0.653269                    2.022539           5   \n",
       "16179            -0.559668                   -0.941569           6   \n",
       "8060             -1.308473                   -0.941569           5   \n",
       "24698            -0.185266                    0.787494           4   \n",
       "29322             0.937942                    1.281512           6   \n",
       "\n",
       "       cb_person_default_on_file  person_home_ownership_RENT  \\\n",
       "29895                          1                         0.0   \n",
       "16179                          0                         1.0   \n",
       "8060                           0                         0.0   \n",
       "24698                          1                         1.0   \n",
       "29322                          0                         1.0   \n",
       "\n",
       "       person_home_ownership_infrequent_sklearn  loan_intent_EDUCATION  \\\n",
       "29895                                       1.0                    0.0   \n",
       "16179                                       0.0                    0.0   \n",
       "8060                                        0.0                    0.0   \n",
       "24698                                       0.0                    1.0   \n",
       "29322                                       0.0                    0.0   \n",
       "\n",
       "       loan_intent_HOMEIMPROVEMENT  loan_intent_MEDICAL  loan_intent_PERSONAL  \\\n",
       "29895                          0.0                  0.0                   0.0   \n",
       "16179                          1.0                  0.0                   0.0   \n",
       "8060                           0.0                  0.0                   0.0   \n",
       "24698                          0.0                  0.0                   0.0   \n",
       "29322                          0.0                  0.0                   1.0   \n",
       "\n",
       "       loan_intent_VENTURE  \n",
       "29895                  1.0  \n",
       "16179                  0.0  \n",
       "8060                   0.0  \n",
       "24698                  0.0  \n",
       "29322                  0.0  "
      ]
     },
     "execution_count": 39,
     "metadata": {},
     "output_type": "execute_result"
    }
   ],
   "source": [
    "X_test_transformed = pd.concat([X_test_num_rescaled,X_test_cat,X_test_cat_ohe],axis=1)\n",
    "X_test_transformed.head()"
   ]
  },
  {
   "cell_type": "markdown",
   "id": "74c92f70",
   "metadata": {},
   "source": [
    "## KNN Classifier"
   ]
  },
  {
   "cell_type": "code",
   "execution_count": 40,
   "id": "88264b63",
   "metadata": {},
   "outputs": [
    {
     "name": "stdout",
     "output_type": "stream",
     "text": [
      "Accuracy:  0.8996632051641875\n"
     ]
    },
    {
     "data": {
      "image/png": "[encoded data removed]",
      "text/plain": [
       "<Figure size 432x288 with 1 Axes>"
      ]
     },
     "metadata": {
      "needs_background": "light"
     },
     "output_type": "display_data"
    }
   ],
   "source": [
    "from sklearn.neighbors import KNeighborsClassifier\n",
    "from sklearn import metrics\n",
    "\n",
    "knn = KNeighborsClassifier()\n",
    "knn.fit(X_train_transformed, y_train)\n",
    "\n",
    "y_test_pred = knn.predict(X_test_transformed)\n",
    "\n",
    "sns.histplot(y_test, color='blue', alpha=0.5)\n",
    "sns.histplot(y_test_pred, color='red', alpha=0.5)\n",
    "\n",
    "print('Accuracy: ', metrics.accuracy_score(y_test, y_test_pred))"
   ]
  },
  {
   "cell_type": "markdown",
   "id": "76b7ae4b",
   "metadata": {},
   "source": [
    "## Logistic Regression"
   ]
  },
  {
   "cell_type": "code",
   "execution_count": 41,
   "id": "ed557045",
   "metadata": {},
   "outputs": [
    {
     "name": "stdout",
     "output_type": "stream",
     "text": [
      "Accuracy:  0.8605108055009824\n"
     ]
    },
    {
     "data": {
      "image/png": "[encoded data removed]",
      "text/plain": [
       "<Figure size 432x288 with 1 Axes>"
      ]
     },
     "metadata": {
      "needs_background": "light"
     },
     "output_type": "display_data"
    }
   ],
   "source": [
    "from sklearn.linear_model import LogisticRegression\n",
    "logistic_reg = LogisticRegression()\n",
    "logistic_reg.fit(X_train_transformed, y_train)\n",
    "\n",
    "y_test_pred = logistic_reg.predict(X_test_transformed)\n",
    "\n",
    "sns.histplot(y_test, color='blue', alpha=0.5)\n",
    "sns.histplot(y_test_pred, color='red', alpha=0.5)\n",
    "\n",
    "\n",
    "print('Accuracy: ', metrics.accuracy_score(y_test, y_test_pred))"
   ]
  },
  {
   "cell_type": "markdown",
   "id": "bc531a6d",
   "metadata": {},
   "source": [
    "## Support Vector Machines"
   ]
  },
  {
   "cell_type": "code",
   "execution_count": 42,
   "id": "10e10225",
   "metadata": {},
   "outputs": [
    {
     "name": "stdout",
     "output_type": "stream",
     "text": [
      "Accuracy:  0.9007858546168959\n"
     ]
    },
    {
     "data": {
      "image/png": "[encoded data removed]",
      "text/plain": [
       "<Figure size 432x288 with 1 Axes>"
      ]
     },
     "metadata": {
      "needs_background": "light"
     },
     "output_type": "display_data"
    }
   ],
   "source": [
    "from sklearn.svm import SVC\n",
    "svc = SVC()\n",
    "svc.fit(X_train_transformed, y_train)\n",
    "\n",
    "y_test_pred = svc.predict(X_test_transformed)\n",
    "\n",
    "sns.histplot(y_test, color='blue', alpha=0.5)\n",
    "sns.histplot(y_test_pred, color='red', alpha=0.5)\n",
    "\n",
    "\n",
    "print('Accuracy: ', metrics.accuracy_score(y_test, y_test_pred))"
   ]
  },
  {
   "cell_type": "markdown",
   "id": "00f18893",
   "metadata": {},
   "source": [
    "## Decision Trees"
   ]
  },
  {
   "cell_type": "code",
   "execution_count": 43,
   "id": "15c8208f",
   "metadata": {},
   "outputs": [
    {
     "name": "stdout",
     "output_type": "stream",
     "text": [
      "Accuracy:  0.8860510805500982\n"
     ]
    },
    {
     "data": {
      "image/png": "[encoded data removed]",
      "text/plain": [
       "<Figure size 432x288 with 1 Axes>"
      ]
     },
     "metadata": {
      "needs_background": "light"
     },
     "output_type": "display_data"
    }
   ],
   "source": [
    "from sklearn.tree import DecisionTreeClassifier\n",
    "tree = DecisionTreeClassifier()\n",
    "tree.fit(X_train_transformed, y_train)\n",
    "\n",
    "y_test_pred = tree.predict(X_test_transformed)\n",
    "\n",
    "sns.histplot(y_test, color='blue', alpha=0.5)\n",
    "sns.histplot(y_test_pred, color='red', alpha=0.5)\n",
    "\n",
    "\n",
    "print('Accuracy: ', metrics.accuracy_score(y_test, y_test_pred))"
   ]
  },
  {
   "cell_type": "markdown",
   "id": "0b783640",
   "metadata": {},
   "source": [
    "## Random Forest"
   ]
  },
  {
   "cell_type": "code",
   "execution_count": 44,
   "id": "a12df9f0",
   "metadata": {},
   "outputs": [
    {
     "name": "stdout",
     "output_type": "stream",
     "text": [
      "Accuracy:  0.9397979230985125\n"
     ]
    },
    {
     "data": {
      "image/png": "[encoded data removed]",
      "text/plain": [
       "<Figure size 432x288 with 1 Axes>"
      ]
     },
     "metadata": {
      "needs_background": "light"
     },
     "output_type": "display_data"
    }
   ],
   "source": [
    "from sklearn.ensemble import RandomForestClassifier\n",
    "rfc = RandomForestClassifier()\n",
    "rfc.fit(X_train_transformed, y_train)\n",
    "\n",
    "y_test_pred = rfc.predict(X_test_transformed)\n",
    "\n",
    "sns.histplot(y_test, color='blue', alpha=0.5)\n",
    "sns.histplot(y_test_pred, color='red', alpha=0.5)\n",
    "\n",
    "\n",
    "print('Accuracy: ', metrics.accuracy_score(y_test, y_test_pred))"
   ]
  },
  {
   "cell_type": "markdown",
   "id": "bc129af5",
   "metadata": {},
   "source": [
    "## conclusions:\n",
    "\n",
    "### Accuray:\n",
    "\n",
    "- KNeighborsClassifier -- 0.8996632051641875\n",
    "- LogisticRegression -- 0.8605108055009824\n",
    "- SVC -- 0.9007858546168959\n",
    "- DecisionTreeClassifier -- 0.8860510805500982\n",
    "- RandomForestClassifier -- 0.9397979230985125\n",
    "\n",
    "- RandomForestClassifier > SVC > KNeighborsClassifier > DecisionTreeClassifier > LogisticRegression"
   ]
  },
  {
   "cell_type": "code",
   "execution_count": null,
   "id": "65e9f7f2",
   "metadata": {},
   "outputs": [],
   "source": []
  }
 ],
 "metadata": {
  "kernelspec": {
   "display_name": "Python 3 (ipykernel)",
   "language": "python",
   "name": "python3"
  },
  "language_info": {
   "codemirror_mode": {
    "name": "ipython",
    "version": 3
   },
   "file_extension": ".py",
   "mimetype": "text/x-python",
   "name": "python",
   "nbconvert_exporter": "python",
   "pygments_lexer": "ipython3",
   "version": "3.9.13"
  }
 },
 "nbformat": 4,
 "nbformat_minor": 5
}
